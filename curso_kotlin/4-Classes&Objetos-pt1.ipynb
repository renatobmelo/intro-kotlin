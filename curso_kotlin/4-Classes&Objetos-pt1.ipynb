{
 "cells": [
  {
   "cell_type": "raw",
   "metadata": {
    "collapsed": false
   },
   "source": []
  },
  {
   "cell_type": "markdown",
   "metadata": {
    "collapsed": false
   },
   "source": [
    "# Classes e Objetos - Parte 1: Conceitos de OOP, classes e objetos, override de gets e sets.\n",
    "\n",
    "- Conceitos de OOP: Kotlin é uma linguagem orientada a objetos e suporta conceitos como classes, objetos, herança, encapsulamento e polimorfismo.\n",
    "- Classes e objetos: Uma classe é um modelo ou plano a partir do qual os objetos são criados. Um objeto é uma instância de uma classe.\n",
    "- Override de gets e sets: Kotlin permite que você substitua os métodos get e set padrão de uma propriedade.\n",
    "\n",
    "Este documento foi desenvolvido pelos seguintes alunos de TSI do IFPB, sob subervisão do professor Gustavo Wagner (2024.1):\n",
    "1. Brian Rafael\n",
    "2. Juan Leite\n",
    "3. Marcela Kramer\n",
    "4. Matheus Pereira\n",
    "5. Peter Simon\n",
    "6. Pablo de Lima\n"
   ]
  },
  {
   "cell_type": "markdown",
   "metadata": {
    "collapsed": false
   },
   "source": [
    "## 1. Conceitos de OOP\n"
   ]
  },
  {
   "cell_type": "markdown",
   "metadata": {
    "collapsed": false
   },
   "source": [
    "### 1.1 Classe"
   ]
  },
  {
   "cell_type": "markdown",
   "metadata": {
    "collapsed": false
   },
   "source": [
    "- Uma classe em Kotlin é uma estrutura que pode conter atributos e funções métodos. Ela serve como um modelo para criar objetos. As classes encapsulam comportamentos e características relacionados a um conceito específico.\n",
    "- Seria como um design de um carro. O design é apenas um modelo que deve ser seguido ao fabricar um carro, mas ele não chega a se materializar."
   ]
  },
  {
   "cell_type": "markdown",
   "metadata": {
    "collapsed": false
   },
   "source": [
    "### 1.2 Objeto"
   ]
  },
  {
   "cell_type": "markdown",
   "metadata": {
    "collapsed": false
   },
   "source": [
    "- É uma instância de uma classe, onde cada objeto possui seus conjuntos de propriedades e compartilham o mesmo comportamento definido pela classe.\n",
    "- Seria como o carro de fato, existente no Espaço-Tempo após sua fabricação."
   ]
  },
  {
   "cell_type": "markdown",
   "metadata": {
    "collapsed": false
   },
   "source": [
    "### 1.3 Herança"
   ]
  },
  {
   "cell_type": "markdown",
   "metadata": {
    "collapsed": false
   },
   "source": [
    "- A herança é o conceito onde uma classe herda características e comportamentos de outra classe.\n",
    "- A subclasse pode estender ou modificar o comportamento da superclasse.\n",
    "\n",
    "Exemplo:\n",
    "- Pessoa (superclasse)\n",
    "    - Pessoa Física (subclasse)\n",
    "    - Pessoa Jurídica (subclasse)"
   ]
  },
  {
   "cell_type": "markdown",
   "metadata": {
    "collapsed": false
   },
   "source": [
    "### 1.4 Encapsulamento"
   ]
  },
  {
   "cell_type": "markdown",
   "metadata": {
    "collapsed": false
   },
   "source": [
    "- O encapsulamento é o conceito de esconder os detalhes internos de uma classe e fornecer uma interface pública para interagir com ela.\n",
    "- Somente certos aspectos da classe são acessíveis de fora, enquanto outros são mantidos privados ou protegidos dentro da classe."
   ]
  },
  {
   "cell_type": "markdown",
   "metadata": {
    "collapsed": false
   },
   "source": [
    "### 1.5 Polimorfismo"
   ]
  },
  {
   "cell_type": "markdown",
   "metadata": {
    "collapsed": false
   },
   "source": [
    "- O polimorfismo é um conceito na programação orientada a objetos que permite que objetos de diferentes classes sejam tratados de forma uniforme, desde que compartilhem uma mesma interface ou superclasse.\n",
    "- Significa que métodos podem ter comportamentos diferentes dependendo do tipo do objeto ao qual estão sendo aplicados."
   ]
  },
  {
   "cell_type": "markdown",
   "metadata": {
    "collapsed": false
   },
   "source": [
    "## 2. Classes e objetos"
   ]
  },
  {
   "cell_type": "markdown",
   "metadata": {
    "collapsed": false
   },
   "source": [
    "### 2.1 Criando nossa primeira classe\n",
    "\n",
    "Obs:\n",
    "A estrutura básica é definir os parâmetros entre parênteses o corpo da classe por chaves.\n",
    "Ambos são opcionais, sendo assim, podem ser omitidos.\n",
    "\n",
    "Abaixo, foi definida uma classe chamada `PrimeiraClasse`."
   ]
  },
  {
   "cell_type": "code",
   "execution_count": 55,
   "metadata": {
    "ExecuteTime": {
     "end_time": "2024-03-07T11:56:34.084672800Z",
     "start_time": "2024-03-07T11:56:34.023672200Z"
    },
    "collapsed": false
   },
   "outputs": [],
   "source": [
    "class PrimeiraClasse"
   ]
  },
  {
   "cell_type": "markdown",
   "metadata": {
    "collapsed": false
   },
   "source": [
    "### 2.2 Criando instâncias de classes\n",
    "Para criar uma instância de uma classe, basta chamar o construtor como se fosse uma função regular.\n",
    "\n",
    "No exemplo, como a a classe `PrimeiraClasse` foi definida anteriormente, é chamado seu construtor."
   ]
  },
  {
   "cell_type": "code",
   "execution_count": 56,
   "metadata": {
    "ExecuteTime": {
     "end_time": "2024-03-07T11:56:34.523673900Z",
     "start_time": "2024-03-07T11:56:34.418675300Z"
    },
    "collapsed": false
   },
   "outputs": [
    {
     "name": "stdout",
     "output_type": "stream",
     "text": [
      "Essa é a minha primeira classe Line_67_jupyter$PrimeiraClasse@48200052.\r\n"
     ]
    }
   ],
   "source": [
    "val primeiraInstanciaDaClasse = PrimeiraClasse()\n",
    "\n",
    "println(\"Essa é a minha primeira classe $primeiraInstanciaDaClasse.\")"
   ]
  },
  {
   "cell_type": "markdown",
   "metadata": {
    "collapsed": false
   },
   "source": [
    "❗ *O Kotlin não possui a palavra-chave new*"
   ]
  },
  {
   "cell_type": "markdown",
   "metadata": {
    "collapsed": false
   },
   "source": [
    "### 2.3 Construtores\n",
    "\n",
    "No Kotlin, toda classe tem um construtor primário e, talvez, construtores secundários.\n",
    "\n",
    "No exemplo, é definido o construtor da classe `Professor` que recebe os parâmametros: `matricula` e `nome`."
   ]
  },
  {
   "cell_type": "code",
   "execution_count": 57,
   "metadata": {
    "ExecuteTime": {
     "end_time": "2024-03-07T11:56:35.171671500Z",
     "start_time": "2024-03-07T11:56:35.028672Z"
    },
    "collapsed": false
   },
   "outputs": [],
   "source": [
    "class Professor constructor(val matricula: Long, var nome: String)\n",
    "\n",
    "val gugawag = Professor(2254024, \"Gustavo Wagner\")"
   ]
  },
  {
   "cell_type": "markdown",
   "metadata": {
    "collapsed": false
   },
   "source": [
    "Se o construtor primário não tiver nenhuma nenhum decorator (@Inject, @Target, @Retention, ...) e nenhum modificador de visibilidade (public, internal, protected, ...), podemos omití-lo, como foi feito abaixo."
   ]
  },
  {
   "cell_type": "code",
   "execution_count": 58,
   "metadata": {
    "ExecuteTime": {
     "end_time": "2024-03-07T11:56:35.609673900Z",
     "start_time": "2024-03-07T11:56:35.513673100Z"
    },
    "collapsed": false
   },
   "outputs": [],
   "source": [
    "class Professor (val matricula: Long, var nome: String)\n",
    "\n",
    "val gugawag = Professor(2254024, \"Gustavo Wagner\")"
   ]
  },
  {
   "cell_type": "markdown",
   "metadata": {
    "collapsed": false
   },
   "source": [
    "Caso deseje executar algum código durante a criação dos objetos deve-se utilizar blocos de inicialização.\n",
    "Os blocos de inicialização são declarados utilizando a palavra-chave **init**.\n",
    "\n",
    "No exemplo abaixo, é criada uma classe `ListaDeCompras` que utiliza blocos de inicialização para preencher a lista e exibir seus itens."
   ]
  },
  {
   "cell_type": "code",
   "execution_count": 59,
   "metadata": {
    "ExecuteTime": {
     "end_time": "2024-03-07T11:56:36.258687700Z",
     "start_time": "2024-03-07T11:56:36.096672300Z"
    },
    "collapsed": false
   },
   "outputs": [
    {
     "name": "stdout",
     "output_type": "stream",
     "text": [
      "Primeira versão da lista: \r\n",
      "[Maçã, Banana, Laranja]\r\n",
      "Segunda versão da lista: \r\n",
      "[Maçã, Banana, Laranja, Kiwi, Morango]\r\n"
     ]
    }
   ],
   "source": [
    "class ListaDeCompras {\n",
    "    val itens: MutableList<String> = mutableListOf()\n",
    "\n",
    "    init {\n",
    "        itens.add(\"Maçã\")\n",
    "        itens.add(\"Banana\")\n",
    "        itens.add(\"Laranja\")\n",
    "        println(\"Primeira versão da lista: \")\n",
    "        println(\"$itens\")\n",
    "    }\n",
    "\n",
    "    init {\n",
    "        itens.add(\"Kiwi\")\n",
    "        itens.add(\"Morango\")\n",
    "        println(\"Segunda versão da lista: \")\n",
    "        println(\"$itens\")\n",
    "    }\n",
    "}\n",
    "\n",
    "\n",
    "val lista = ListaDeCompras()"
   ]
  },
  {
   "cell_type": "markdown",
   "metadata": {
    "collapsed": false
   },
   "source": [
    "Podemos ainda tratar os valores recebidos como parâmetros.\n",
    "\n",
    "Abaixo, é criada a classe `Usuario` que, ao inicializada, garante que a primeira letra do `nome` do usuário seja maiúscula.\n"
   ]
  },
  {
   "cell_type": "code",
   "execution_count": 60,
   "metadata": {
    "ExecuteTime": {
     "end_time": "2024-03-07T11:56:36.794673Z",
     "start_time": "2024-03-07T11:56:36.638673800Z"
    },
    "collapsed": false
   },
   "outputs": [
    {
     "name": "stdout",
     "output_type": "stream",
     "text": [
      "gustavo\r\n"
     ]
    }
   ],
   "source": [
    "class Usuario(val id: Long, nome: String) {\n",
    "    val nome: String = nome.replaceFirstChar { if (it.isLowerCase()) it.titlecase() else it.toString() }\n",
    "}\n",
    "\n",
    "val gugawag = Usuario(2254024, \"gustavo\")\n",
    "println(gugawag.nome)"
   ]
  },
  {
   "cell_type": "markdown",
   "metadata": {
    "collapsed": false
   },
   "source": [
    "Podemos também adicionar valores _default_ aos parâmetros da classe.\n",
    "\n",
    "Abaixo, é criada a classe `Produto` que recebe alguns valores _default_ em seus parâmetros.\n",
    "\n",
    "Perceba que não é passado nenhum parâmetro quando ela é instanciada, mas, mesmo assim, seus atributos mostram valores quando acessados."
   ]
  },
  {
   "cell_type": "code",
   "execution_count": 61,
   "metadata": {
    "ExecuteTime": {
     "end_time": "2024-03-07T11:56:37.414670400Z",
     "start_time": "2024-03-07T11:56:37.288675Z"
    },
    "collapsed": false
   },
   "outputs": [
    {
     "name": "stdout",
     "output_type": "stream",
     "text": [
      "Produto\r\n",
      "0.0\r\n",
      "true\r\n"
     ]
    }
   ],
   "source": [
    "class Produto(val nome: String = \"Produto\", val preco: Double = 0.0, val disponivel: Boolean = true)\n",
    "\n",
    "val produto =  Produto()\n",
    "println(produto.nome)\n",
    "println(produto.preco)\n",
    "println(produto.disponivel)"
   ]
  },
  {
   "cell_type": "markdown",
   "metadata": {
    "collapsed": false
   },
   "source": [
    "### 2.4 Companion Object\n",
    "\n",
    "O _Companion Object_ em Kotlin permite a criação de membros estáticos dentro de uma classe, acessíveis sem a necessidade de instanciar a classe. É útil para organizar funcionalidades compartilhadas por todas as instâncias da classe.\n",
    "\n",
    "No exemplo, é criada a classe `Aluno` que possui um _Companion Object_ com a variável `contador`. Veja que essa variável é incrementada toda vez que é criado um objeto dessa classe."
   ]
  },
  {
   "cell_type": "code",
   "execution_count": 62,
   "metadata": {
    "ExecuteTime": {
     "end_time": "2024-03-07T11:56:37.914672700Z",
     "start_time": "2024-03-07T11:56:37.767672700Z"
    },
    "collapsed": false
   },
   "outputs": [],
   "source": [
    "class Aluno {\n",
    "    companion object {\n",
    "        var contador = 0\n",
    "    }\n",
    "    \n",
    "    constructor() {\n",
    "        contador += 1\n",
    "        println(\"Objeto Aluno de número: $contador\")\n",
    "    }\n",
    "}"
   ]
  },
  {
   "cell_type": "code",
   "execution_count": 63,
   "metadata": {
    "ExecuteTime": {
     "end_time": "2024-03-07T11:56:38.337673300Z",
     "start_time": "2024-03-07T11:56:38.160673600Z"
    },
    "collapsed": false
   },
   "outputs": [
    {
     "name": "stdout",
     "output_type": "stream",
     "text": [
      "Objeto Aluno de número: 1\r\n",
      "Objeto Aluno de número: 2\r\n",
      "Objeto Aluno de número: 3\r\n"
     ]
    }
   ],
   "source": [
    "val aluno1 = Aluno() // contador = 1 \n",
    "val aluno2 = Aluno() // contador = 2\n",
    "val aluno3 = Aluno() // contador = 3"
   ]
  },
  {
   "cell_type": "markdown",
   "metadata": {
    "collapsed": false
   },
   "source": [
    "Essa variável deve ser acessada através da classe em si, e não de seus objetos."
   ]
  },
  {
   "cell_type": "code",
   "execution_count": 64,
   "metadata": {
    "ExecuteTime": {
     "end_time": "2024-03-07T11:56:38.901671900Z",
     "start_time": "2024-03-07T11:56:38.817673200Z"
    },
    "collapsed": false
   },
   "outputs": [
    {
     "name": "stdout",
     "output_type": "stream",
     "text": [
      "3\r\n"
     ]
    }
   ],
   "source": [
    "println(Aluno.contador)"
   ]
  },
  {
   "cell_type": "markdown",
   "metadata": {
    "collapsed": false
   },
   "source": [
    "### 2.5 Modificadores de visiblidade"
   ]
  },
  {
   "cell_type": "markdown",
   "metadata": {
    "collapsed": false
   },
   "source": [
    "#### Private, Protected, Internal e Public"
   ]
  },
  {
   "cell_type": "markdown",
   "metadata": {
    "collapsed": false
   },
   "source": [
    "private: significa que o membro é visível apenas dentro desta classe (incluindo todos os seus membros).\n",
    "\n",
    "protected: significa que o membro tem a mesma visibilidade que aquele marcado como private, mas também é visível nas subclasses.\n",
    "\n",
    "internal: significa que qualquer cliente dentro deste módulo que vê a classe declarante vê seus membros internos.\n",
    "\n",
    "public: significa que qualquer cliente que veja a classe declarante verá seus membros públicos."
   ]
  },
  {
   "cell_type": "markdown",
   "metadata": {
    "collapsed": false
   },
   "source": [
    "No exemplo abaixo, é criada a classe `Carro` com atributos com diferentes modificadores de visibilidade.\n",
    "\n",
    "Veja que o método `exibirInfo()` tem acesso a todos os atributos pois está dentro da própria classe.\n",
    "\n",
    "Porém, na subclasse `CarroEsportivo`, esse método é modificado pois não consegue acessar o atributo `ano`, visto que ele foi definido como `private` na superclasse. No entanto, ele consegue acessar o atributo `cor`, já que esse foi definido como `protected`."
   ]
  },
  {
   "cell_type": "code",
   "execution_count": 65,
   "metadata": {
    "ExecuteTime": {
     "end_time": "2024-03-07T11:56:41.038928Z",
     "start_time": "2024-03-07T11:56:40.838928100Z"
    },
    "collapsed": false
   },
   "outputs": [
    {
     "name": "stdout",
     "output_type": "stream",
     "text": [
      "Ano do carro: Ford\r\n",
      "Modelo do carro: Fiesta\r\n",
      "Marca: Ford, Modelo: Fiesta, Ano: 2022, Cor: Preto\r\n",
      "Marca: Ford, Modelo: Fiesta, Cor: Preto\r\n"
     ]
    }
   ],
   "source": [
    "open class Carro {\n",
    "    public var marca: String = \"Ford\"\n",
    "    internal var modelo: String = \"Fiesta\"\n",
    "    private var ano: Int = 2022\n",
    "    protected var cor: String = \"Preto\"\n",
    "\n",
    "    open fun exibirInfo() {\n",
    "        println(\"Marca: $marca, Modelo: $modelo, Ano: $ano, Cor: $cor\")\n",
    "    }\n",
    "}\n",
    "\n",
    "class CarroEsportivo : Carro() {\n",
    "    override fun exibirInfo() {\n",
    "        println(\"Marca: $marca, Modelo: $modelo, Cor: $cor\")\n",
    "    }\n",
    "}\n",
    "\n",
    "val meuCarro = Carro()\n",
    "\n",
    "// Acesso permitido ao atributo ano (public)\n",
    "println(\"Ano do carro: ${meuCarro.marca}\")\n",
    "\n",
    "// Acesso permitido ao atributo modelo (internal)\n",
    "println(\"Modelo do carro: ${meuCarro.modelo}\")\n",
    "\n",
    "// Acesso proibido ao atributo marca (private)\n",
    "// println(\"Marca do carro: ${meuCarro.ano}\")\n",
    "\n",
    "// Acesso proibido ao atributo cor (protected)\n",
    "// println(\"Cor do carro: ${meuCarro.cor}\")\n",
    "\n",
    "meuCarro.exibirInfo()\n",
    "\n",
    "val meuCarroEsportivo = CarroEsportivo()\n",
    "meuCarroEsportivo.exibirInfo()\n"
   ]
  },
  {
   "cell_type": "markdown",
   "metadata": {
    "collapsed": false
   },
   "source": [
    "## 3. Classes diferentes"
   ]
  },
  {
   "cell_type": "markdown",
   "metadata": {
    "collapsed": false
   },
   "source": [
    "### 3.1 Abstratas"
   ]
  },
  {
   "cell_type": "markdown",
   "metadata": {
    "collapsed": false
   },
   "source": [
    "\n",
    "Uma classe abstrata em Kotlin é uma classe que não pode ser instanciada diretamente e pode conter métodos abstratos (sem implementação) que devem ser definidos por suas subclasses. Tanto a classe como os métodos abstratos são definidos pelo uso da palavra-chave **abstract**.\n",
    "\n",
    "No exemplo abaixo, é criada a classe abstrata `Animal` com seus respectivos métodos."
   ]
  },
  {
   "cell_type": "code",
   "execution_count": 66,
   "metadata": {
    "ExecuteTime": {
     "end_time": "2024-03-07T11:56:41.783926700Z",
     "start_time": "2024-03-07T11:56:41.675930500Z"
    },
    "collapsed": false
   },
   "outputs": [],
   "source": [
    "abstract class Animal {\n",
    "    abstract val nome: String\n",
    "\n",
    "    abstract fun emitirSom()\n",
    "\n",
    "    fun comer() {\n",
    "        println(\"$nome está comendo!\")\n",
    "    }\n",
    "}"
   ]
  },
  {
   "cell_type": "markdown",
   "metadata": {
    "collapsed": false
   },
   "source": [
    "Como o método `emitirSom()` não foi implementado na classe abstrata, na classe `Gato` (que herda de `Animal`), esse método precisa ser implementado. Já o método `comer()`, como recebeu implementação na superclasse, não precisa ser implementado."
   ]
  },
  {
   "cell_type": "code",
   "execution_count": 67,
   "metadata": {
    "ExecuteTime": {
     "end_time": "2024-03-07T11:56:42.092926300Z",
     "start_time": "2024-03-07T11:56:41.948926600Z"
    },
    "collapsed": false
   },
   "outputs": [
    {
     "name": "stdout",
     "output_type": "stream",
     "text": [
      "Princesinho está comendo!\r\n"
     ]
    }
   ],
   "source": [
    "class Gato(override val nome: String): Animal() {\n",
    "    override fun emitirSom() {\n",
    "        println(\"Miau\")\n",
    "    }\n",
    "}\n",
    "\n",
    "val gato1 = Gato(\"Princesinho\")\n",
    "gato1.comer()"
   ]
  },
  {
   "cell_type": "markdown",
   "metadata": {
    "collapsed": false
   },
   "source": [
    "### 3.2 Interfaces"
   ]
  },
  {
   "cell_type": "markdown",
   "metadata": {
    "collapsed": false
   },
   "source": [
    "Uma interface é um meio de conter algumas declarações prévias que uma classe deve conter (mapeamento das atividades,processos,argumentos e retornos). Ela cria uma espécie de \"contrato\" que as classes que a implementam devem seguir estritamente.\n",
    "\n",
    "A classe exemplo `AcaoAnimal` criada abaixo define as ações padrões de um animal."
   ]
  },
  {
   "cell_type": "code",
   "execution_count": 68,
   "metadata": {
    "ExecuteTime": {
     "end_time": "2024-03-07T11:56:42.419925300Z",
     "start_time": "2024-03-07T11:56:42.313928400Z"
    },
    "collapsed": false
   },
   "outputs": [],
   "source": [
    "interface AcaoAnimal {\n",
    "    fun emitirSom(): Unit\n",
    "    fun realizarAcao(): Unit\n",
    "}"
   ]
  },
  {
   "cell_type": "markdown",
   "metadata": {
    "collapsed": false
   },
   "source": [
    "Adiante, é feito o uso dessa interface ao criar as classes `Cachorro` e `Passaro`. Perceba que ambas implementam os métodos definidos na interface `AcaoAnimal`. \n",
    "\n",
    "Ao executá-los, eles diferenciam seu resultado de acordo com o objeto que o chamou."
   ]
  },
  {
   "cell_type": "code",
   "execution_count": 69,
   "metadata": {
    "ExecuteTime": {
     "end_time": "2024-03-07T11:56:42.962934900Z",
     "start_time": "2024-03-07T11:56:42.617926600Z"
    },
    "collapsed": false
   },
   "outputs": [
    {
     "name": "stdout",
     "output_type": "stream",
     "text": [
      "O cachorro late e pula.\r\n",
      "Auau!\r\n",
      "O pássaro pia e cisca.\r\n",
      "Piu piuuu!\r\n"
     ]
    }
   ],
   "source": [
    "class Cachorro : AcaoAnimal {\n",
    "    override fun realizarAcao() {\n",
    "        println(\"O cachorro late e pula.\")\n",
    "    }\n",
    "\n",
    "    override fun emitirSom() {\n",
    "        println(\"Auau!\")\n",
    "    }\n",
    "}\n",
    "\n",
    "class Passaro : AcaoAnimal {\n",
    "    override fun realizarAcao() {\n",
    "        println(\"O pássaro pia e cisca.\")\n",
    "    }\n",
    "\n",
    "    override fun emitirSom() {\n",
    "        println(\"Piu piuuu!\")\n",
    "    }\n",
    "}\n",
    "\n",
    "val cachorro = Cachorro()\n",
    "cachorro.realizarAcao()\n",
    "cachorro.emitirSom()\n",
    "\n",
    "val passaro = Passaro()\n",
    "passaro.realizarAcao()\n",
    "passaro.emitirSom()"
   ]
  },
  {
   "cell_type": "markdown",
   "metadata": {
    "collapsed": false
   },
   "source": [
    "### 3.3 Open "
   ]
  },
  {
   "cell_type": "markdown",
   "metadata": {
    "collapsed": false
   },
   "source": [
    "Uma _Open Class_ é uma classe que pode ser herdada por outras classes.\n",
    "Usamos a palavra-chave **open** para isso.\n",
    "\n",
    "Abaixo, é criada a classe \"aberta\" `Animal`."
   ]
  },
  {
   "cell_type": "code",
   "execution_count": 70,
   "metadata": {
    "ExecuteTime": {
     "end_time": "2024-03-07T11:56:43.535924400Z",
     "start_time": "2024-03-07T11:56:43.426925800Z"
    },
    "collapsed": false
   },
   "outputs": [],
   "source": [
    "open class Animal(val nome: String) {\n",
    "    open fun comer(comida: String) {\n",
    "        println(\"$nome está comendo $comida.\")\n",
    "    }\n",
    "}"
   ]
  },
  {
   "cell_type": "markdown",
   "metadata": {
    "collapsed": false
   },
   "source": [
    "Como `Animal` utilizou a palavra-chave *open*, ela pode ser herdada pela subclasse abaixo chamada `Dinossauro`. Veja como ela acessa o método `comer()` da superclasse."
   ]
  },
  {
   "cell_type": "code",
   "execution_count": 71,
   "metadata": {
    "ExecuteTime": {
     "end_time": "2024-03-07T11:56:44.374929500Z",
     "start_time": "2024-03-07T11:56:44.205925500Z"
    },
    "collapsed": false
   },
   "outputs": [
    {
     "name": "stdout",
     "output_type": "stream",
     "text": [
      "T-Rex está comendo Triceratops.\r\n"
     ]
    }
   ],
   "source": [
    "class Dinossauro(nome: String): Animal(nome)\n",
    "\n",
    "val dinossauro1 = Dinossauro(\"T-Rex\")\n",
    "dinossauro1.comer(\"Triceratops\")"
   ]
  },
  {
   "cell_type": "markdown",
   "metadata": {
    "collapsed": false
   },
   "source": [
    "### 3.4 Data Class"
   ]
  },
  {
   "cell_type": "markdown",
   "metadata": {
    "collapsed": false
   },
   "source": [
    "_Data Class_ em Kotlin é uma classe especializada em armazenar dados.\n",
    "Fornece por padrão métodos como `equals` e `toString`, que não estão disponíveis em classes comuns. Isso economiza tempo e reduz a quantidade de código que você precisa escrever para criar uma classe simples que apenas mantém dados.\n",
    "\n",
    "No exemplo abaixo, é criada um _dataclass_ `Medico` que armazena as informações típicas de um médico."
   ]
  },
  {
   "cell_type": "code",
   "execution_count": 72,
   "metadata": {
    "ExecuteTime": {
     "end_time": "2024-03-07T11:56:45.406924200Z",
     "start_time": "2024-03-07T11:56:45.286937500Z"
    },
    "collapsed": false
   },
   "outputs": [
    {
     "name": "stdout",
     "output_type": "stream",
     "text": [
      "Medico(CRM=21050156, nome=Daniel Alves Montenegro)\r\n"
     ]
    }
   ],
   "source": [
    "data class Medico(val CRM: Long, val nome: String)\n",
    "\n",
    "val medico1 = Medico(21050156, \"Daniel Alves Montenegro\")\n",
    "println(medico1.toString())"
   ]
  },
  {
   "cell_type": "markdown",
   "metadata": {
    "collapsed": false
   },
   "source": [
    "### 3.5 Nested"
   ]
  },
  {
   "cell_type": "markdown",
   "metadata": {
    "collapsed": false
   },
   "source": [
    "As classes em Kotlin podem ser aninhadas a outras classes. Nesses casos, uma classe é declarada dentro de outra classe.\n",
    "\n",
    "Abaixo, é criada a classe `Escola` que possui a classe aninhada `Aluno`."
   ]
  },
  {
   "cell_type": "code",
   "execution_count": 73,
   "metadata": {
    "ExecuteTime": {
     "end_time": "2024-03-07T11:56:46.315924Z",
     "start_time": "2024-03-07T11:56:46.168929700Z"
    },
    "collapsed": false
   },
   "outputs": [
    {
     "name": "stdout",
     "output_type": "stream",
     "text": [
      "O aluno Matheus tem 19 anos.\r\n"
     ]
    }
   ],
   "source": [
    "class Escola(val nomeDaEscola: String) {\n",
    "    class Aluno(val nome: String, var idade: Int) {\n",
    "        fun acessarDetalhes() {\n",
    "            println(\"O aluno $nome tem $idade anos.\")\n",
    "        }\n",
    "    }\n",
    "}\n",
    "\n",
    "val escola = Escola(\"IFPB\")\n",
    "val aluno = Escola.Aluno(\"Matheus\", 19)\n",
    "aluno.acessarDetalhes()\n"
   ]
  },
  {
   "cell_type": "markdown",
   "metadata": {
    "collapsed": false
   },
   "source": [
    "Também é possível usar essa ideia de aninhamento com _interfaces_. Todas as combinações entre classes e interfaces são possíveis: Você pode aninhar interfaces em classes, classes em interfaces e interfaces em interfaces."
   ]
  },
  {
   "cell_type": "markdown",
   "metadata": {
    "collapsed": false
   },
   "source": [
    "##### Aninhamento de interfaces em classes:\n",
    "\n",
    "Vamos considerar um exemplo onde temos uma classe `Loja` que precisa lidar com diferentes tipos de produtos, cada um com suas próprias características específicas. Podemos aninhar uma interface `Produto` dentro da classe `Loja` para definir métodos comuns para todos os produtos."
   ]
  },
  {
   "cell_type": "code",
   "execution_count": 74,
   "metadata": {
    "ExecuteTime": {
     "end_time": "2024-03-07T11:56:47.312924600Z",
     "start_time": "2024-03-07T11:56:47.158926100Z"
    },
    "collapsed": false
   },
   "outputs": [
    {
     "name": "stdout",
     "output_type": "stream",
     "text": [
      "Livro: O Senhor dos Anéis, Autor: J.R.R. Tolkien\r\n",
      "Preço: R$ 39.9\r\n"
     ]
    }
   ],
   "source": [
    "class Loja(val nome: String) {\n",
    "    interface Produto {\n",
    "        fun mostrarDetalhes()\n",
    "        fun calcularPreco(): Double\n",
    "    }\n",
    "\n",
    "    class Livro(val titulo: String, val autor: String, val preco: Double) : Produto {\n",
    "        override fun mostrarDetalhes() {\n",
    "            println(\"Livro: $titulo, Autor: $autor\")\n",
    "        }\n",
    "\n",
    "        override fun calcularPreco(): Double {\n",
    "            return preco\n",
    "        }\n",
    "    }\n",
    "}\n",
    "\n",
    "val livro = Loja.Livro(\"O Senhor dos Anéis\", \"J.R.R. Tolkien\", 39.90)\n",
    "livro.mostrarDetalhes()\n",
    "println(\"Preço: R$ ${livro.calcularPreco()}\")\n"
   ]
  },
  {
   "cell_type": "markdown",
   "metadata": {
    "collapsed": false
   },
   "source": [
    "##### Aninhamento de classes em interfaces:\n",
    "\n",
    "Vamos criar uma interface `Pagamento` que define operações comuns para diferentes métodos de pagamento, e aninharemos uma classe `Transacao` dentro dela para lidar com os detalhes de uma transação de pagamento."
   ]
  },
  {
   "cell_type": "code",
   "execution_count": 75,
   "metadata": {
    "ExecuteTime": {
     "end_time": "2024-03-07T11:56:47.833928900Z",
     "start_time": "2024-03-07T11:56:47.703930600Z"
    },
    "collapsed": false
   },
   "outputs": [
    {
     "name": "stdout",
     "output_type": "stream",
     "text": [
      "Processando transação de Compra com cartão de crédito no valor de R$ 100.0\r\n"
     ]
    }
   ],
   "source": [
    "interface Pagamento {\n",
    "    class Transacao(val valor: Double, val descricao: String) {\n",
    "        fun processar() {\n",
    "            println(\"Processando transação de $descricao no valor de R$ $valor\")\n",
    "     \t\t// ...\n",
    "        }\n",
    "    }\n",
    "\n",
    "    fun realizarPagamento()\n",
    "}\n",
    "\n",
    "class CartaoCredito : Pagamento {\n",
    "    override fun realizarPagamento() {\n",
    "        val transacao = Pagamento.Transacao(100.0, \"Compra com cartão de crédito\")\n",
    "        transacao.processar()\n",
    "    }\n",
    "}\n",
    "\n",
    "val cartaoCredito = CartaoCredito()\n",
    "cartaoCredito.realizarPagamento()\n"
   ]
  },
  {
   "cell_type": "markdown",
   "metadata": {
    "collapsed": false
   },
   "source": [
    "##### Aninhamento de interfaces em interfaces:\n",
    "\n",
    "Vamos criar uma interface `Animal` que define características comuns de animais, e uma interface aninhada `Som` para representar os sons que cada animal faz."
   ]
  },
  {
   "cell_type": "code",
   "execution_count": 76,
   "metadata": {
    "ExecuteTime": {
     "end_time": "2024-03-07T11:56:48.587955700Z",
     "start_time": "2024-03-07T11:56:48.428927600Z"
    },
    "collapsed": false
   },
   "outputs": [
    {
     "name": "stdout",
     "output_type": "stream",
     "text": [
      "O cachorro está correndo.\r\n",
      "Au au!\r\n"
     ]
    }
   ],
   "source": [
    "interface Animal {\n",
    "    interface Som {\n",
    "        fun fazerSom()\n",
    "    }\n",
    "\n",
    "    fun mover()\n",
    "}\n",
    "\n",
    "class Cachorro : Animal {\n",
    "    override fun mover() {\n",
    "        println(\"O cachorro está correndo.\")\n",
    "    }\n",
    "\n",
    "    inner class Latido : Animal.Som {\n",
    "        override fun fazerSom() {\n",
    "            println(\"Au au!\")\n",
    "        }\n",
    "    }\n",
    "}\n",
    "\n",
    "\n",
    "val cachorro = Cachorro()\n",
    "val latido = cachorro.Latido()\n",
    "\n",
    "cachorro.mover()\n",
    "latido.fazerSom()"
   ]
  },
  {
   "cell_type": "markdown",
   "metadata": {
    "collapsed": false
   },
   "source": [
    "### 3.6 Inner        "
   ]
  },
  {
   "cell_type": "markdown",
   "metadata": {
    "collapsed": false
   },
   "source": [
    "São como as nested classes, mas permitindo o acesso de itens da classe mais externa. Devem ser declaradas com a palavra-chave **inner**.\n",
    "\n",
    "No exemplo abaixo, criamos uma classe `Carro` que possui uma classe aninhada `Motor`. Nesse caso, a classe interna acessa o atributo `modelo` da classe externa no método `ligar()`."
   ]
  },
  {
   "cell_type": "code",
   "execution_count": 77,
   "metadata": {
    "ExecuteTime": {
     "end_time": "2024-03-07T11:56:49.750928400Z",
     "start_time": "2024-03-07T11:56:49.534927300Z"
    },
    "collapsed": false
   },
   "outputs": [
    {
     "name": "stdout",
     "output_type": "stream",
     "text": [
      "BMW: Motor Rotativo ligado.\r\n"
     ]
    }
   ],
   "source": [
    "class Carro(val modelo: String) {\n",
    "    inner class Motor(val tipo: String) {\n",
    "        fun ligar() {\n",
    "            println(\"$modelo: Motor $tipo ligado.\")\n",
    "        }\n",
    "    }\n",
    "}\n",
    "\n",
    "val carro = Carro(\"BMW\")\n",
    "val motor = carro.Motor(\"Rotativo\")\n",
    "motor.ligar()\n"
   ]
  },
  {
   "cell_type": "markdown",
   "metadata": {
    "collapsed": false
   },
   "source": [
    "### 3.7 Sealed"
   ]
  },
  {
   "cell_type": "markdown",
   "metadata": {
    "collapsed": false
   },
   "source": [
    "É uma classe especial que restringe a hieraquia das subclasses a um conjunto dentro do próprio arquivo.\n",
    "Ou seja, pode somente ser herdada dentro do arquivo onde foi criada.\n",
    "\n",
    "No exemplo mostrado abaixo, é criada a classe `Resultado` que é herdada pela classe `Sucesso` que está dentro do mesmo arquivo."
   ]
  },
  {
   "cell_type": "code",
   "execution_count": 78,
   "metadata": {
    "ExecuteTime": {
     "end_time": "2024-03-07T11:56:50.171925100Z",
     "start_time": "2024-03-07T11:56:50.011929100Z"
    },
    "collapsed": false
   },
   "outputs": [
    {
     "name": "stdout",
     "output_type": "stream",
     "text": [
      "O resultado foi: Feito com sucesso.\r\n"
     ]
    }
   ],
   "source": [
    "sealed class Resultado(val mensagem: String) {\n",
    "    fun mostrar() {\n",
    "        println(\"O resultado foi: $mensagem.\")\n",
    "    }\n",
    "}\n",
    "\n",
    "class Sucesso(mensagem: String) : Resultado(mensagem)\n",
    "\n",
    "val sucesso = Sucesso(\"Feito com sucesso\")\n",
    "sucesso.mostrar()"
   ]
  },
  {
   "cell_type": "markdown",
   "metadata": {
    "collapsed": false
   },
   "source": [
    "Porém, na classe `Erro` abaixo, o código não compilaria pois é como se as células fossem módulos diferentes e, por isso, a classe `Resultado` não pode ser herdada."
   ]
  },
  {
   "cell_type": "code",
   "execution_count": 79,
   "metadata": {
    "ExecuteTime": {
     "end_time": "2024-03-07T11:56:50.753928800Z",
     "start_time": "2024-03-07T11:56:50.594928100Z"
    },
    "collapsed": false
   },
   "outputs": [],
   "source": [
    "// class Erro(mensagem: String): Resultado(mensagem)"
   ]
  },
  {
   "cell_type": "markdown",
   "metadata": {
    "collapsed": false
   },
   "source": [
    "### 3.8 Singleton"
   ]
  },
  {
   "cell_type": "markdown",
   "metadata": {
    "collapsed": false
   },
   "source": [
    "Semelhante ao `static` de Java.\n",
    "A singleton é uma instância única de uma classe. No Kotlin, isso é frequentemente implementado usando um objeto, pois os objetos são instâncias únicas por definição.\n",
    "\n",
    "No exemplo abaixo, foi criado uma classe singleton `Fachada` que se caracteriza por ser uma instância única. Perceba que a classe não foi instanciada em um objeto, e sim acessada diretamente. "
   ]
  },
  {
   "cell_type": "code",
   "execution_count": 80,
   "metadata": {
    "ExecuteTime": {
     "end_time": "2024-03-07T11:56:51.754929600Z",
     "start_time": "2024-03-07T11:56:51.539926300Z"
    },
    "collapsed": false
   },
   "outputs": [
    {
     "name": "stdout",
     "output_type": "stream",
     "text": [
      "Criando objeto...\r\n",
      "Deletando objeto...\r\n"
     ]
    }
   ],
   "source": [
    "object Fachada {\n",
    "    fun criarObjeto() {\n",
    "        println(\"Criando objeto...\")\n",
    "    }\n",
    "    \n",
    "    fun deletarObjeto() {\n",
    "        println(\"Deletando objeto...\")\n",
    "    }\n",
    "}\n",
    "\n",
    "Fachada.criarObjeto()\n",
    "Fachada.deletarObjeto()"
   ]
  },
  {
   "cell_type": "markdown",
   "metadata": {
    "collapsed": false
   },
   "source": [
    "### 3.9 Enum"
   ]
  },
  {
   "cell_type": "markdown",
   "metadata": {
    "collapsed": false
   },
   "source": [
    "É uma estrutura de um conjunto fixo de valores nomeados e definidos.\n",
    "\n",
    "Abaixo, é criado um _Enum_ `Dia` que armazena os valores definidos dos dias da semana associados a um número : Int.\n",
    "\n",
    "A função `mensagemDia()` recebe um valor inteiro e, acessando `Dia`, verifica se o dia é \"Dia de trabalho\" ou \"Fim de semana\"."
   ]
  },
  {
   "cell_type": "code",
   "execution_count": 81,
   "metadata": {
    "ExecuteTime": {
     "end_time": "2024-03-07T11:56:52.572927Z",
     "start_time": "2024-03-07T11:56:52.304929100Z"
    },
    "collapsed": false
   },
   "outputs": [
    {
     "name": "stdout",
     "output_type": "stream",
     "text": [
      "Número do dia: 2. Dia de trabalho\r\n",
      "Número do dia: 6. Dia de trabalho\r\n",
      "Número do dia: 1. Fim de semana\r\n",
      "Número do dia: 7. Fim de semana\r\n"
     ]
    }
   ],
   "source": [
    "enum class Dia(val numero: Int) {\n",
    "    DOMINGO(1),\n",
    "    SEGUNDA(2),\n",
    "    TERCA(3),\n",
    "    QUARTA(4),\n",
    "    QUINTA(5),\n",
    "    SEXTA(6),\n",
    "    SABADO(7)\n",
    "}\n",
    "\n",
    "fun mensagemDia(numeroDia: Int) {\n",
    "\n",
    "    val msg = when (numeroDia) {\n",
    "        Dia.DOMINGO.numero, Dia.SABADO.numero -> \"Fim de semana\"\n",
    "        else -> \"Dia de trabalho\"\n",
    "    }\n",
    "\n",
    "    println(\"Número do dia: $numeroDia. $msg\")\n",
    "}\n",
    "\n",
    "mensagemDia(2)  // SEGUNDA\n",
    "mensagemDia(6)  // SEXTA\n",
    "mensagemDia(1)  // DOMINGO\n",
    "mensagemDia(7)  // SABADO"
   ]
  },
  {
   "cell_type": "markdown",
   "metadata": {
    "collapsed": false
   },
   "source": [
    "## 4. Override"
   ]
  },
  {
   "cell_type": "markdown",
   "metadata": {
    "collapsed": false
   },
   "source": [
    "### 4.1 Overriding de getters e setters"
   ]
  },
  {
   "cell_type": "markdown",
   "metadata": {
    "collapsed": false
   },
   "source": [
    "O Kotlin, gera implicitamente os métodos getters e setters com implementação padrão para propriedades declaradas.\n",
    "\n",
    "O `override` permite substituir o comportamento padrão dos `getters` e `setters` de uma propriedade. "
   ]
  },
  {
   "cell_type": "code",
   "execution_count": 9,
   "metadata": {
    "ExecuteTime": {
     "end_time": "2024-03-07T14:52:28.288050800Z",
     "start_time": "2024-03-07T14:52:28.204051Z"
    },
    "collapsed": false
   },
   "outputs": [],
   "source": [
    "open class Animal {\n",
    "    open var nome: String = \"ferdinando\"\n",
    "        get() = field.capitalize() // Este getter capitaliza o nome\n",
    "        set(value) {\n",
    "            field = value.toLowerCase() // Este setter converte a string para minusculo\n",
    "        }\n",
    "}\n",
    "\n",
    "val meuAnimal = Animal()\n",
    "meuAnimal.nome = \"ToTo\"\n",
    "println(meuAnimal.nome)"
   ]
  },
  {
   "cell_type": "markdown",
   "metadata": {
    "collapsed": false
   },
   "source": [
    "O `override` também é crucial ao herdar uma classe e deseja-se modificar o comportamento das propriedades da classe base.\n",
    "\n",
    "Geralmente, você o usará para personalizar como sua classe manipula o acesso e a modificação de propriedades herdadas, especialmente quando precisa validar ou transformar os valores atribuídos de maneira específica.\n",
    "\n",
    "No exemplo abaixo, possuimos a classe base `Animal` da qual as classes `Cachorro` e `Gato` herdarão a propriedade `nome`.\n",
    "\n",
    "Ao instanciarmos as classes filhas o override dos `setters` será responsável por adicionar os prefixos correspondentes."
   ]
  },
  {
   "cell_type": "code",
   "execution_count": 12,
   "metadata": {
    "ExecuteTime": {
     "end_time": "2024-03-07T14:53:54.973810500Z",
     "start_time": "2024-03-07T14:53:54.774816300Z"
    },
    "collapsed": false
   },
   "outputs": [
    {
     "name": "stdout",
     "output_type": "stream",
     "text": [
      "Toto\r\n",
      "Cachorro: Rex\r\n",
      "Gato: Felix\r\n"
     ]
    }
   ],
   "source": [
    "class Cachorro : Animal() {\n",
    "    override var nome: String = \"\"\n",
    "        set(value) {\n",
    "            field = \"Cachorro: $value\" // Adiciona prefixo \"Cachorro: \" ao nome do cachorro\n",
    "        }\n",
    "}\n",
    "\n",
    "class Gato : Animal() {\n",
    "    override var nome: String = \"\"\n",
    "        set(value) {\n",
    "            field = \"Gato: $value\" // Adiciona prefixo \"Gato: \" ao nome do gato\n",
    "        }\n",
    "}\n",
    "\n",
    "val meuCachorro = Cachorro()\n",
    "meuCachorro.nome = \"Rex\"\n",
    "println(meuCachorro.nome)\n",
    "\n",
    "val meuGato = Gato()\n",
    "meuGato.nome = \"Felix\"\n",
    "println(meuGato.nome)"
   ]
  },
  {
   "cell_type": "markdown",
   "metadata": {
    "collapsed": false
   },
   "source": [
    "### 4.2 Backing Fields"
   ]
  },
  {
   "cell_type": "markdown",
   "metadata": {
    "collapsed": false
   },
   "source": [
    "Os `Backing Fields` ou campos de suporte são campos invisíveis gerados automaticamente pelo Kotlin.\n",
    "\n",
    "Possuem a função de armazenar os valores das propriedades.\n",
    "\n",
    "São usados principalmente para evitar loops infinitos recursivos.\n",
    "\n",
    "Veja que interessante, ao declarar uma propriedade em Kotlin o compilador cria automaticamente um backing field.\n",
    "\n",
    "Porém é possível fornecer uma implementação personalizada para que o `getter` ou `setter` possua outra lógica de armazenamento.\n",
    "\n",
    "Veja só..."
   ]
  },
  {
   "cell_type": "code",
   "execution_count": 83,
   "metadata": {
    "ExecuteTime": {
     "end_time": "2024-03-07T11:56:55.251967200Z",
     "start_time": "2024-03-07T11:56:55.134448Z"
    },
    "collapsed": false
   },
   "outputs": [
    {
     "name": "stdout",
     "output_type": "stream",
     "text": [
      "0\r\n"
     ]
    }
   ],
   "source": [
    "class Pessoa {\n",
    "    var idade: Int = 0\n",
    "        set(value) {\n",
    "            field = if (value >= 0) value else 0 // Validando a idade para garantir que não seja negativa\n",
    "        }\n",
    "}\n",
    "\n",
    "val pessoa = Pessoa()\n",
    "pessoa.idade = -1\n",
    "println(pessoa.idade)"
   ]
  },
  {
   "cell_type": "markdown",
   "metadata": {
    "collapsed": false
   },
   "source": [
    "No exemplo acima, a palavra `field` indica que será implementada uma outra lógica para o `setter` da propriedade `idade`, garantindo que o valor assumido não seja negativo."
   ]
  },
  {
   "cell_type": "markdown",
   "metadata": {
    "collapsed": false
   },
   "source": [
    "### 4.3 Backing properties"
   ]
  },
  {
   "cell_type": "markdown",
   "metadata": {
    "collapsed": false
   },
   "source": [
    "`Backing properties` ou propriedades de suporte, são propriedades que utilizam `backing fields` para armazenar seus valores, mas fornecem um controle mais refinado sobre o acesso e modificação desses valores.\n",
    "\n",
    "Um exemplo muito comum da utilização desse tipo de propriedade é quando precisa-se iniciar uma propriedade de forma preguiçosa (`Lazy`), ou seja, inicializar o valor apenas quando ele é acessado pela primeira vez.\n",
    "\n",
    "Eis um exemplo de como pode-se utilizar..."
   ]
  },
  {
   "cell_type": "code",
   "execution_count": 84,
   "metadata": {
    "ExecuteTime": {
     "end_time": "2024-03-07T11:56:56.715048900Z",
     "start_time": "2024-03-07T11:56:56.640050400Z"
    },
    "collapsed": false
   },
   "outputs": [
    {
     "name": "stdout",
     "output_type": "stream",
     "text": [
      "30\r\n"
     ]
    }
   ],
   "source": [
    "class Pessoa {\n",
    "    private var _idade: Int? = null // Backing field o sinal ? indica que a propriedade é opcional\n",
    "    val idade: Int\n",
    "        get() {\n",
    "            if (_idade == null) {\n",
    "                _idade = calcularIdade() // Inicialização preguiçosa\n",
    "            }\n",
    "            return _idade!! //O sinal !! garante que idade não possa ser nulo\n",
    "        }\n",
    "\n",
    "    private fun calcularIdade(): Int {\n",
    "        return 30\n",
    "    }\n",
    "}\n",
    "\n",
    "val pessoa = Pessoa()\n",
    "println(pessoa.idade)"
   ]
  },
  {
   "cell_type": "markdown",
   "metadata": {
    "collapsed": false
   },
   "source": [
    "Acima utilizamos o backing field `_idade` para armazenar o valor da backing property `idade`, mas fornecemos um getter personalizado que nos permite calcular a idade apenas quando a propriedade for acessada pela primeira vez.\n",
    "\n",
    "Essa implementação nos permite uma maior economia dos recursos da máquina, especialmente nos casos em que o cáculo dessa propriedade é custoso."
   ]
  },
  {
   "cell_type": "markdown",
   "metadata": {
    "collapsed": false
   },
   "source": [
    "## Prática\n",
    "\n",
    "Agora, para testar os conhecimentos apresentados, vamos realizar um exercício prático abordando alguns dos conceitos que foram abordados acima."
   ]
  },
  {
   "cell_type": "markdown",
   "metadata": {
    "collapsed": false
   },
   "source": [
    "#### Questão 1\n",
    "\n",
    "a) Crie uma classe chamada `Produto` com os seguintes atributos:\n",
    "   - `nome: String`\n",
    "   - `preco: Double`\n",
    "\n",
    "b) Implemente a classe de três formas diferentes, variando o construtor em cada uma delas.\n",
    "   - Um construtor que não recebe parâmetros e inicializa nome como \"Produto\" e preco como 0.0.\n",
    "   - Um construtor que recebe apenas o nome do produto como parâmetro e inicializa preco como 0.0.\n",
    "   - Um construtor que recebe tanto o nome quanto o preço do produto como parâmetros.\n",
    "\n",
    "c) Crie instâncias das diferentes classes `Produto` utilizando os seus construtores e imprima os detalhes de cada produto.\n"
   ]
  },
  {
   "cell_type": "markdown",
   "metadata": {
    "collapsed": false
   },
   "source": [
    "#### Questão 2\n",
    "a) Crie uma classe chamada `Cliente` com os seguintes atributos:\n",
    "   - `nome: String`\n",
    "   - `idade: Int`\n",
    "\n",
    "b) Utilize os *modificadores de visibilidade* para definir que o atributo `nome` seja *público* e o atributo `idade` seja *privado*.\n",
    "\n",
    "c) Crie um método *público* na classe `Cliente` chamado `mostrarIdade()` que imprime a idade do cliente.\n",
    "\n",
    "d) Crie uma instância de `Cliente` e chame o método `mostrarIdade()` para verificar seu funcionamento."
   ]
  },
  {
   "cell_type": "markdown",
   "metadata": {
    "collapsed": false
   },
   "source": [
    "#### Questão 3\n",
    "\n",
    "a) Suponha que você esteja desenvolvendo um sistema de jogos. Crie uma classe abstrata chamada `Personagem` com o método abstrato `atacar()`.\n",
    "\n",
    "b) Imagine que no seu jogo existam diferentes tipos de personagens, como `Guerreiro` e `Mago`. Crie essas subclasses de Personagem e implemente o método `atacar()` de cada uma delas de acordo com suas características de combate. O `Guerreiro` ataca com espada e o `Mago` lança um feitiço.\n",
    "\n",
    "c) Crie instâncias de `Guerreiro` e `Mago` e chame o método `atacar()` de cada um para verificar se estão realizando os ataques corretamente de acordo com suas respectivas classes.\n"
   ]
  },
  {
   "cell_type": "markdown",
   "metadata": {
    "collapsed": false
   },
   "source": [
    "#### Questão 4\n",
    "\n",
    "a) Desenvolva uma interface em chamada `FormaGeometrica` com um método abstrato `calcularArea()`.\n",
    "\n",
    "b) Implemente duas classes, `Retangulo` e `Circulo`, que implementem a interface `FormaGeometrica` e forneçam a implementação do método `calcularArea()` para cada uma delas. A classe `Retangulo` deve receber a altura e a largura como parâmetros no construtor e calcular a área multiplicando a altura pela largura. A classe `Circulo` deve receber o raio como parâmetro no construtor e calcular a área usando a fórmula π * raio * raio.\n",
    "\n",
    "c) Crie instâncias dessas duas classes e chame o método `calcularArea()` em cada uma delas para verificar o resultado.\n"
   ]
  },
  {
   "cell_type": "markdown",
   "metadata": {
    "collapsed": false
   },
   "source": [
    "#### Questão 5\n",
    "\n",
    "a) Crie uma classe chamada `ContaBancaria` com os seguintes atributos: \n",
    "   - `numeroConta: String`\n",
    "   - `nomeTitular: String`\n",
    "   - `saldo: Double`\n",
    "\n",
    "b) Implemente um `getter` personalizado para a propriedade `nomeTitular` para retorná-la iniciando em letra maiúscula.\n",
    "\n",
    "c) Implemente override do `setter` para o atributo `saldo` de forma que o valor do saldo não possa ser negativo. Se um valor negativo for atribuído, o saldo deve ser mantido como zero.\n",
    "\n",
    "d) Crie uma instância de `ContaBancaria`. Altere o nome do titular para uma string que inicie com letra minúscula e mude o saldo para um valor negativo. Imprima os valores para verificar se as regras dos `getters` e `setters` estão sendo aplicadas corretamente.\n"
   ]
  }
 ],
 "metadata": {
  "kernelspec": {
   "display_name": "Kotlin",
   "language": "kotlin",
   "name": "kotlin"
  },
  "language_info": {
   "codemirror_mode": "text/x-kotlin",
   "file_extension": ".kt",
   "mimetype": "text/x-kotlin",
   "name": "kotlin",
   "nbconvert_exporter": "",
   "pygments_lexer": "kotlin",
   "version": "1.9.0"
  }
 },
 "nbformat": 4,
 "nbformat_minor": 0
}
