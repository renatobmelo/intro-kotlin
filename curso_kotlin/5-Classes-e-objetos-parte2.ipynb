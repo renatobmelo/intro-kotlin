{
 "cells": [
  {
   "cell_type": "markdown",
   "source": [
    "# Construtores\n",
    "Este documento foi desenvolvido pelos seguintes alunos de TSI do IFPB, sob subervisão do professor Gustavo Wagner (2024.1):\n",
    "1. Caio André\n",
    "2. Cayo Bruno\n",
    "3. Clodoaldo dos Santos\n",
    "4. Gustavo Nascimento\n",
    "5. Peter Simon\n",
    "6. João Marcos\n",
    "\n",
    "### O que é um construtor?\n",
    "Um construtor é um tipo especial de método em uma classe que é usado para inicializar objetos dessa classe. Ele define como um objeto deve ser criado e inicializado quando é instanciado. Em outras palavras, o construtor é responsável por definir o estado inicial de um objeto e executar quaisquer operações necessárias durante a inicialização.\n",
    "\n",
    "Uma classe em Kotlin possui um construtor primário e possivelmente um ou mais construtores secundários. O construtor primário é declarado no cabeçalho da classe, e ele vai após o nome da classe e dos parâmetros de tipo opcionais."
   ],
   "metadata": {
    "collapsed": false
   }
  },
  {
   "cell_type": "code",
   "outputs": [],
   "source": [
    "class Pessoa constructor(primeiroNome: String) { }"
   ],
   "metadata": {
    "collapsed": false,
    "is_executing": true
   }
  },
  {
   "cell_type": "markdown",
   "source": [
    "Se o construtor primário não tiver anotações ou modificadores de visibilidade, a palavra-chave `constructor` pode ser omitida:"
   ],
   "metadata": {
    "collapsed": false
   }
  },
  {
   "cell_type": "code",
   "outputs": [],
   "source": [
    "class Pessoa(primeiroNome: String) { }"
   ],
   "metadata": {
    "collapsed": false
   }
  },
  {
   "cell_type": "markdown",
   "source": [
    "O construtor primário é responsável por inicializar uma instância da classe e suas propriedades, e ele não pode conter código executável. Para executar código durante a criação do objeto, podemos usar blocos inicializadores dentro do corpo da classe. Esses blocos são declarados com a palavra-chave `init` seguida de chaves e podem conter qualquer código desejado.\n",
    "\n",
    "Por exemplo, podemos ter uma classe DemoOrdemDeInicializacao que demonstra a ordem de execução dos blocos inicializadores e inicializadores de propriedades:"
   ],
   "metadata": {
    "collapsed": false
   }
  },
  {
   "cell_type": "code",
   "outputs": [],
   "source": [
    "class DemoOrdemDeInicializacao(nome: String) {\n",
    "    val primeiraPropriedade = \"Primeira propriedade: $nome\".also(::println)\n",
    "    \n",
    "    init {\n",
    "        println(\"Primeiro bloco inicializador que imprime $nome\")\n",
    "    }\n",
    "    \n",
    "    val segundaPropriedade = \"Segunda propriedade: ${nome.length}\".also(::println)\n",
    "    \n",
    "    init {\n",
    "        println(\"Segundo bloco inicializador que imprime ${nome.length}\")\n",
    "    }\n",
    "}"
   ],
   "metadata": {
    "collapsed": false
   }
  },
  {
   "cell_type": "markdown",
   "source": [
    "O construtor primário pode ser usado nos blocos inicializadores e nos inicializadores de propriedades, como no exemplo da classe `Cliente`:"
   ],
   "metadata": {
    "collapsed": false
   }
  },
  {
   "cell_type": "code",
   "outputs": [],
   "source": [
    "class Cliente(nome: String) {\n",
    "    val chaveCliente = nome.uppercase()\n",
    "}"
   ],
   "metadata": {
    "collapsed": false
   }
  },
  {
   "cell_type": "markdown",
   "source": [
    "Kotlin tem a vantagem de oferecer uma sintaxe concisa para declarar propriedades e inicializá-las a partir do construtor primário, como mostrado na classe `Pessoa` abaixo:"
   ],
   "metadata": {
    "collapsed": false
   }
  },
  {
   "cell_type": "code",
   "outputs": [],
   "source": [
    "class Pessoa(val primeiroNome: String, val sobrenome: String, var idade: Int)"
   ],
   "metadata": {
    "collapsed": false
   }
  },
  {
   "cell_type": "markdown",
   "source": [
    "Essa declaração também pode incluir valores padrão para as propriedades da classe:"
   ],
   "metadata": {
    "collapsed": false
   }
  },
  {
   "cell_type": "code",
   "outputs": [],
   "source": [
    "class Pessoa(val primeiroNome: String, val sobrenome: String, var estaEmpregado: Boolean = true)"
   ],
   "metadata": {
    "collapsed": false
   }
  },
  {
   "cell_type": "markdown",
   "source": [
    "É possível usar uma vírgula final ao declarar propriedades da classe, o que é útil para manter o código organizado:"
   ],
   "metadata": {
    "collapsed": false
   }
  },
  {
   "cell_type": "code",
   "outputs": [],
   "source": [
    "class Pessoa(\n",
    "    val primeiroNome: String,\n",
    "    val sobrenome: String,\n",
    "    var idade: Int, // vírgula final\n",
    ") { }"
   ],
   "metadata": {
    "collapsed": false
   }
  },
  {
   "cell_type": "markdown",
   "source": [
    "Assim como as propriedades regulares, as propriedades declaradas no construtor primário podem ser mutáveis `(var)`ou somente leitura `(val)`.\n",
    "\n",
    "Se o construtor tiver anotações ou modificadores de visibilidade, a palavra-chave constructor é necessária e os modificadores vêm antes dela:"
   ],
   "metadata": {
    "collapsed": false
   }
  },
  {
   "cell_type": "code",
   "outputs": [],
   "source": [
    "class Cliente public @Inject constructor(nome: String) {  }"
   ],
   "metadata": {
    "collapsed": false
   }
  },
  {
   "cell_type": "markdown",
   "source": [],
   "metadata": {
    "collapsed": false
   }
  },
  {
   "cell_type": "markdown",
   "source": [
    "### Construtor Secundário\n",
    "\n",
    "Além do construtor primário, uma classe em Kotlin pode ter construtores secundários. Esses construtores são prefixados com a palavra-chave constructor e podem ser usados para fornecer diferentes formas de inicialização da classe.\n",
    "\n",
    "Por exemplo, podemos ter uma classe `Animal` com um construtor secundário que recebe o dono do animal e o adiciona à lista de animais de estimação do dono:"
   ],
   "metadata": {
    "collapsed": false
   }
  },
  {
   "cell_type": "code",
   "outputs": [],
   "source": [
    "class Animal {\n",
    "    constructor(dono: Pessoa) {\n",
    "        dono.pets.add(this) // adiciona este animal à lista de animais de estimação do seu dono\n",
    "    }\n",
    "}"
   ],
   "metadata": {
    "collapsed": false
   }
  },
  {
   "cell_type": "markdown",
   "source": [
    "Os construtores secundários precisam delegar para o construtor primário, seja diretamente ou indiretamente, como no exemplo da classe `Pessoa`:"
   ],
   "metadata": {
    "collapsed": false
   }
  },
  {
   "cell_type": "code",
   "outputs": [],
   "source": [
    "class Pessoa(val nome: String) {\n",
    "    val filhos: MutableList<Pessoa> = mutableListOf()\n",
    "    constructor(nome: String, pai: Pessoa) : this(nome) {\n",
    "        pai.filhos.add(this)\n",
    "    }\n",
    "}"
   ],
   "metadata": {
    "collapsed": false
   }
  },
  {
   "cell_type": "markdown",
   "source": [
    "O código nos blocos inicializadores é executado antes do corpo do construtor secundário, e a delegação para o construtor primário ocorre no momento do acesso à primeira instrução do construtor secundário.\n",
    "Mesmo que a classe não tenha um construtor primário, a delegação para o construtor primário ainda acontece implicitamente, e os blocos inicializadores ainda são executados:"
   ],
   "metadata": {
    "collapsed": false
   }
  },
  {
   "cell_type": "code",
   "outputs": [],
   "source": [
    "class Construtores {\n",
    "    init {\n",
    "        println(\"Bloco init\")\n",
    "    }\n",
    "\n",
    "    constructor(i: Int) {\n",
    "        println(\"Construtor $i\")\n",
    "    }\n",
    "}"
   ],
   "metadata": {
    "collapsed": false
   }
  },
  {
   "cell_type": "markdown",
   "source": [
    "Se uma classe não abstrata não declarar nenhum construtor (primário ou secundário), ela terá um construtor primário gerado com nenhum argumento e visibilidade pública.\n",
    "\n",
    "Para evitar que uma classe tenha um construtor público, é possível declarar um construtor primário vazio com visibilidade não padrão, como mostrado na classe `NaoCrieMe`:"
   ],
   "metadata": {
    "collapsed": false
   }
  },
  {
   "cell_type": "code",
   "outputs": [],
   "source": [
    "class NaoCrieMe private constructor() {  }"
   ],
   "metadata": {
    "collapsed": false
   }
  },
  {
   "cell_type": "markdown",
   "source": [
    "No JVM, se todos os parâmetros do construtor primário tiverem valores padrão, o compilador gerará um construtor adicional sem parâmetros que usará os valores padrão. Isso facilita o uso de Kotlin com bibliotecas que criam instâncias de classe por meio de construtores sem parâmetros, como Jackson ou JPA."
   ],
   "metadata": {
    "collapsed": false
   }
  },
  {
   "cell_type": "code",
   "outputs": [],
   "source": [
    "class Cliente(val nomeCliente: String = \"\")"
   ],
   "metadata": {
    "collapsed": false
   }
  },
  {
   "cell_type": "markdown",
   "source": [],
   "metadata": {
    "collapsed": false
   }
  },
  {
   "cell_type": "markdown",
   "source": [
    "### Criando Instâncias de classes\n",
    "Para criar uma instância de uma classe, chame o construtor como se fosse uma função regular:"
   ],
   "metadata": {
    "collapsed": false
   }
  },
  {
   "cell_type": "code",
   "outputs": [],
   "source": [
    "val fatura = Fatura()\n",
    "\n",
    "val cliente = Cliente(\"João Silva\")"
   ],
   "metadata": {
    "collapsed": false
   }
  },
  {
   "cell_type": "markdown",
   "source": [
    "**OBS: Kotlin não possui uma palavra-chave new.**"
   ],
   "metadata": {
    "collapsed": false
   }
  },
  {
   "cell_type": "markdown",
   "source": [
    "# Bloco init\n",
    "\n",
    "#### Em Kotlin, você pode criar uma classe com um bloco de inicialização usando a palavra-chave init. O bloco init é executado assim que uma instância da classe é criada."
   ],
   "metadata": {
    "collapsed": false
   }
  },
  {
   "cell_type": "code",
   "outputs": [],
   "source": [
    "class MinhaClasse {\n",
    "    // Propriedades da classe\n",
    "    var nome: String\n",
    "    var idade: Int\n",
    "\n",
    "    // Bloco de inicialização\n",
    "    init {\n",
    "        nome = \"João\"\n",
    "        idade = 30\n",
    "        println(\"Objeto da classe MinhaClasse foi criado com nome $nome e idade $idade\") // Objeto da classe MinhaClasse foi criado com nome João e idade 30\n",
    "    }\n",
    "\n",
    "    // Função da classe\n",
    "    fun mostrarInfo() {\n",
    "        println(\"Nome: $nome, Idade: $idade\") // Nome: João, Idade: 30\n",
    "    }\n",
    "}\n",
    "\n",
    "fun main() {\n",
    "    val objeto = MinhaClasse() // Objeto da classe MinhaClasse foi criado com nome João e idade 30\n",
    "    objeto.mostrarInfo() // Nome: João, Idade: 30\n",
    "}"
   ],
   "metadata": {
    "collapsed": false
   }
  },
  {
   "cell_type": "markdown",
   "source": [
    "Objeto da classe MinhaClasse foi criado com nome João e idade 30\n",
    "Nome: João, Idade: 30\n"
   ],
   "metadata": {
    "collapsed": false
   }
  },
  {
   "cell_type": "markdown",
   "source": [
    "#### O bloco init em Kotlin é uma maneira de executar código de inicialização quando uma instância de uma classe é criada. Ele é útil para executar lógica de inicialização que precisa ser realizada assim que o objeto é criado, antes que qualquer outra operação seja realizada nele.\n",
    "### Algumas características importantes do bloco init:\n",
    "\n",
    "1. Executado automaticamente: O bloco init é executado automaticamente assim que uma instância da classe é criada. Você não precisa chamá-lo explicitamente."
   ],
   "metadata": {
    "collapsed": false
   }
  },
  {
   "cell_type": "code",
   "outputs": [],
   "source": [
    "class ExemploClasse {\n",
    "    init {\n",
    "        println(\"Bloco init foi executado automaticamente!\")\n",
    "    }\n",
    "}\n",
    "\n",
    "fun main() {\n",
    "    val exemplo = ExemploClasse() // Ao criar uma instância da classe, o bloco init é executado automaticamente\n",
    "}\n"
   ],
   "metadata": {
    "collapsed": false
   }
  },
  {
   "cell_type": "markdown",
   "source": [
    "2. Acesso a propriedades e métodos da classe: Dentro do bloco init, você tem acesso total às propriedades e métodos da classe, pois ele faz parte do contexto da classe."
   ],
   "metadata": {
    "collapsed": false
   }
  },
  {
   "cell_type": "code",
   "outputs": [],
   "source": [
    "class Pessoa(val nome: String, val idade: Int) {\n",
    "    init {\n",
    "        println(\"Inicializando pessoa com nome $nome e idade $idade\") // Inicializando pessoa com nome Maria e idade 30\n",
    "        saudacao() // Chamando um método da classe dentro do bloco init\n",
    "    }\n",
    "\n",
    "    fun saudacao() {\n",
    "        println(\"Olá, meu nome é $nome e eu tenho $idade anos.\") // Olá, meu nome é Maria e eu tenho 30 anos.\n",
    "    }\n",
    "}\n",
    "\n",
    "fun main() {\n",
    "    val pessoa = Pessoa(\"Maria\", 30)\n",
    "}\n"
   ],
   "metadata": {
    "collapsed": false
   }
  },
  {
   "cell_type": "markdown",
   "source": [
    "Inicializando pessoa com nome Maria e idade 30\n",
    "Olá, meu nome é Maria e eu tenho 30 anos."
   ],
   "metadata": {
    "collapsed": false
   }
  },
  {
   "cell_type": "markdown",
   "source": [
    "3. Pode haver vários blocos init: Você pode ter vários blocos init em uma classe, e eles serão executados na ordem em que são definidos na classe.\n"
   ],
   "metadata": {
    "collapsed": false
   }
  },
  {
   "cell_type": "code",
   "outputs": [],
   "source": [
    "class ExemploClasse(val valor: Int) {\n",
    "    init {\n",
    "        println(\"Inicializando primeira parte...\") // Primeiro bloco init\n",
    "    }\n",
    "\n",
    "    init {\n",
    "        println(\"Inicializando segunda parte...\") // Segundo bloco init\n",
    "    }\n",
    "\n",
    "    init {\n",
    "        println(\"Inicializando terceira parte...\") // Terceiro bloco init\n",
    "        println(\"O valor é: $valor\") // Imprime o valor passado como argumento\n",
    "    }\n",
    "}\n",
    "\n",
    "fun main() {\n",
    "    val exemplo = ExemploClasse(5) // Cria uma instância da classe ExemploClasse com valor 5\n",
    "}\n"
   ],
   "metadata": {
    "collapsed": false
   }
  },
  {
   "cell_type": "markdown",
   "source": [
    "Inicializando primeira parte...\n",
    "Inicializando segunda parte...\n",
    "Inicializando terceira parte...\n",
    "O valor é: 5"
   ],
   "metadata": {
    "collapsed": false
   }
  },
  {
   "cell_type": "markdown",
   "source": [
    "4. Ordem de execução: Os blocos init são executados na ordem em que são definidos na classe, antes de qualquer construtor secundário e antes de qualquer código dentro do corpo do construtor primário.\n",
    "5. Flexibilidade de inicialização: O bloco init permite uma grande flexibilidade na inicialização de objetos. Você pode usar lógica condicional, loops e quaisquer outras operações permitidas em Kotlin dentro do bloco init\n"
   ],
   "metadata": {
    "collapsed": false
   }
  },
  {
   "cell_type": "code",
   "outputs": [],
   "source": [
    "class Carro(val marca: String, val anoFabricacao: Int) {\n",
    "    val idade: Int\n",
    "\n",
    "    init {\n",
    "        val anoAtual = 2024 // Suponha que seja o ano atual\n",
    "        idade = anoAtual - anoFabricacao\n",
    "\n",
    "        if (idade <= 5) {\n",
    "            println(\"$marca é um carro novo.\")\n",
    "        } else {\n",
    "            println(\"$marca é um carro usado.\")\n",
    "        }\n",
    "    }\n",
    "}\n",
    "\n",
    "fun main() {\n",
    "    val carroNovo = Carro(\"Toyota\", 2022)\n",
    "    val carroUsado = Carro(\"Ford\", 2017)\n",
    "}\n"
   ],
   "metadata": {
    "collapsed": false
   }
  },
  {
   "cell_type": "markdown",
   "source": [
    "Toyota é um carro novo.\n",
    "Ford é um carro usado."
   ],
   "metadata": {
    "collapsed": false
   }
  },
  {
   "cell_type": "markdown",
   "source": [
    "6. Melhora a legibilidade do código: Usar o bloco init pode tornar o código mais legível, especialmente quando há uma lógica complexa de inicialização que precisa ser realizada."
   ],
   "metadata": {
    "collapsed": false
   }
  },
  {
   "cell_type": "code",
   "outputs": [],
   "source": [
    "class ExemploClasse(val valor: Int) { // Define a classe ExemploClasse com uma propriedade 'valor'\n",
    "    val mensagem: String // Declara uma propriedade 'mensagem'\n",
    "\n",
    "    init {\n",
    "        println(\"Inicializando primeira parte...\") // Mensagem de inicialização para o primeiro bloco init\n",
    "\n",
    "\t//Acesso a propriedade da classe\n",
    "        mensagem = if (valor > 0) { // Verifica se o valor passado é positivo\n",
    "            \"Valor positivo\"\n",
    "        } else {\n",
    "            \"Valor não positivo\"\n",
    "        }\n",
    "\n",
    "\t//Acesso a método da classe\n",
    "        mostrarMensagem() // Mensagem: Valor positivo\n",
    "    }\n",
    "\n",
    "\t//Existência de vários blocos init.\n",
    "    init {\n",
    "        println(\"Inicializando segunda parte...\") // Mensagem de inicialização para o segundo bloco init\n",
    "        println(\"O valor é: $valor\") // O valor é: 5\n",
    "    }\n",
    "\n",
    "    fun mostrarMensagem() { // Define um método na classe para mostrar a mensagem\n",
    "        println(\"Mensagem: $mensagem\") // Imprime a mensagem\n",
    "    }\n",
    "}\n",
    "\n",
    "fun main() {\n",
    "    val exemplo = ExemploClasse(5) // Cria uma instância da classe ExemploClasse com valor 5\n",
    "}\n"
   ],
   "metadata": {
    "collapsed": false
   }
  },
  {
   "cell_type": "markdown",
   "source": [
    "Inicializando primeira parte...\n",
    "Mensagem: Valor positivo\n",
    "Inicializando segunda parte...\n",
    "O valor é: 5"
   ],
   "metadata": {
    "collapsed": false
   }
  },
  {
   "cell_type": "markdown",
   "source": [
    "# Herança em Kotlin\n",
    "\n",
    "### Introdução\n",
    "Em Kotlin, a herança é um conceito fundamental da orientação a objetos. Ela permite que uma classe herde características e comportamentos de outra classe, conhecida como superclasse ou classe base. Isso promove a reutilização de código e facilita a organização e extensão de funcionalidades em um programa.\n",
    "\n",
    "### Superclasse e Subclasse\n",
    "- **Superclasse**: Também conhecida como classe base, é a classe da qual outras classes herdam.\n",
    "- **Subclasse**: Também conhecida como classe derivada, é a classe que herda características e comportamentos da superclasse.\n",
    "\n",
    "### Declaração de Herança\n",
    "Em Kotlin, a declaração de herança é realizada usando a palavra-chave `open`. Uma classe que pode ser herdada deve ser marcada como `open`."
   ],
   "metadata": {
    "collapsed": false
   }
  },
  {
   "cell_type": "code",
   "outputs": [],
   "source": [
    "open class Forma {}\n",
    "class Retângulo : Forma() {}"
   ],
   "metadata": {
    "collapsed": false
   }
  },
  {
   "cell_type": "markdown",
   "source": [
    "### Sobrescrita de Métodos\n",
    "Para modificar o comportamento de um método na classe derivada, usamos a palavra-chave `override`."
   ],
   "metadata": {
    "collapsed": false
   }
  },
  {
   "cell_type": "code",
   "outputs": [],
   "source": [
    "open class Animal {\n",
    "    open fun fazerSom() { /* ... */\n",
    "    }\n",
    "}\n",
    "\n",
    "class Cachorro : Animal() {\n",
    "    override fun fazerSom() {\n",
    "        println(\"Au au!\")\n",
    "    }\n",
    "}"
   ],
   "metadata": {
    "collapsed": false
   }
  },
  {
   "cell_type": "markdown",
   "source": [
    "### Sobrescrita de Propriedades\n",
    "O mecanismo de sobrescrita de propriedades em Kotlin funciona de forma semelhante ao mecanismo de sobrescrita de métodos. Propriedades declaradas em uma superclasse que são redeclaradas em uma classe derivada devem ser prefixadas com `override` e devem ter um tipo compatível. Cada propriedade declarada pode ser sobrescrita por uma propriedade com um inicializador ou por uma propriedade com um método `get`."
   ],
   "metadata": {
    "collapsed": false
   }
  },
  {
   "cell_type": "code",
   "outputs": [],
   "source": [
    "open class Forma {\n",
    "    open val quantidadeVertices: Int = 0\n",
    "}\n",
    "\n",
    "class Retângulo : Forma() {\n",
    "    override val quantidadeVertices = 4\n",
    "}"
   ],
   "metadata": {
    "collapsed": false
   }
  },
  {
   "cell_type": "markdown",
   "source": [
    "### Chamando Métodos da Superclasse\n",
    "Para chamar um método da superclasse dentro de um método sobrescrito na subclasse, usamos `super`."
   ],
   "metadata": {
    "collapsed": false
   }
  },
  {
   "cell_type": "code",
   "outputs": [],
   "source": [
    "open class Veículo {\n",
    "    open fun mover() { /* ... */ }\n",
    "}\n",
    "\n",
    "class Carro : Veículo() {\n",
    "        override fun mover() {\n",
    "        super.mover()\n",
    "        println(\"O carro está se movendo.\")\n",
    "    }\n",
    "}"
   ],
   "metadata": {
    "collapsed": false
   }
  },
  {
   "cell_type": "markdown",
   "source": [
    "# Polimorfismo\n",
    "O polimorfismo é um dos conceitos fundamentais da programação orientada a objetos. Em Kotlin, esse conceito é implementado através de mecanismos como herança e interfaces, permitindo que objetos de diferentes classes sejam tratados de forma uniforme. Vamos explorar como o polimorfismo funciona em Kotlin com exemplos simples e elucidativos.\n",
    "\n",
    "### Utilizando Polimorfismo\n",
    "Com o conceito de polimorfismo, podemos tratar objetos de classes derivadas de forma genérica, mesmo que sejam de tipos diferentes. Isso é possível devido à capacidade de Kotlin de selecionar o método apropriado em tempo de execução, dependendo do tipo real do objeto."
   ],
   "metadata": {
    "collapsed": false
   }
  },
  {
   "cell_type": "code",
   "outputs": [],
   "source": [
    "fun makeSound(animal: Animal) {\n",
    "    animal.sound()\n",
    "}\n",
    "\n",
    "val dog = Dog()\n",
    "val cat = Cat()\n",
    "\n",
    "makeSound(dog) // Output: Dog barks\n",
    "makeSound(cat) // Output: Cat meows"
   ],
   "metadata": {
    "collapsed": false
   }
  },
  {
   "cell_type": "markdown",
   "source": [
    "### Polimorfismo com Interfaces\n",
    "Além da herança, Kotlin também suporta polimorfismo através de interfaces. As interfaces definem um conjunto de métodos que uma classe deve implementar. Isso permite que diferentes classes forneçam implementações específicas para os métodos da interface."
   ],
   "metadata": {
    "collapsed": false
   }
  },
  {
   "cell_type": "code",
   "outputs": [],
   "source": [
    "interface Shape {\n",
    "    fun draw()\n",
    "}\n",
    "\n",
    "class Circle : Shape {\n",
    "    override fun draw() {\n",
    "        println(\"Circle is drawn\")\n",
    "    }\n",
    "}\n",
    "\n",
    "class Rectangle : Shape {\n",
    "    override fun draw() {\n",
    "        println(\"Rectangle is drawn\")\n",
    "    }\n",
    "}"
   ],
   "metadata": {
    "collapsed": false
   }
  },
  {
   "cell_type": "markdown",
   "source": [
    "### Utilizando Polimorfismo com Interfaces\n",
    "Ao utilizar interfaces, podemos tratar objetos de diferentes classes que implementam a mesma interface de forma uniforme, sem se preocupar com a implementação específica de cada classe."
   ],
   "metadata": {
    "collapsed": false
   }
  },
  {
   "cell_type": "code",
   "outputs": [],
   "source": [
    "fun drawShape(shape: Shape) {\n",
    "    shape.draw()\n",
    "}\n",
    "\n",
    "val circle = Circle()\n",
    "val rectangle = Rectangle()\n",
    "\n",
    "drawShape(circle)    // Output: Circle is drawn\n",
    "drawShape(rectangle) // Output: Rectangle is drawn"
   ],
   "metadata": {
    "collapsed": false
   }
  },
  {
   "cell_type": "markdown",
   "source": [
    "Esses exemplos ilustram como o polimorfismo em Kotlin permite escrever código mais flexível, reutilizável e fácil de entender, promovendo uma programação orientada a objetos eficaz e elegante."
   ],
   "metadata": {
    "collapsed": false
   }
  },
  {
   "cell_type": "markdown",
   "source": [
    "# Typecast\n",
    "### Uso de is e as em Kotlin\n",
    "Em Kotlin, o `is` e o `as` são operadores utilizados para verificar tipos e realizar conversões de tipo, respectivamente."
   ],
   "metadata": {
    "collapsed": false
   }
  },
  {
   "cell_type": "code",
   "outputs": [],
   "source": [
    "if (objeto is Tipo) {\n",
    "// O objeto é automaticamente cast para Tipo dentro deste bloco\n",
    "}"
   ],
   "metadata": {
    "collapsed": false
   }
  },
  {
   "cell_type": "markdown",
   "source": [
    "### Operador is\n",
    "O operador `is` é utilizado para verificar se um objeto é de um determinado tipo. É especialmente útil para evitar erros de ClassCastException em tempo de execução. Quando utilizado em uma instrução `if`, se a verificação for verdadeira, o objeto é automaticamente convertido para o tipo verificado dentro do escopo daquela instrução."
   ],
   "metadata": {
    "collapsed": false
   }
  },
  {
   "cell_type": "code",
   "outputs": [],
   "source": [
    "val objetoConvertido: Tipo = objeto as Tipo\n",
    "val objetoConvertidoSeguro: Tipo? = objeto as? Tipo"
   ],
   "metadata": {
    "collapsed": false
   }
  },
  {
   "cell_type": "markdown",
   "source": [
    "### Exemplo de Uso\n",
    "Vamos ilustrar o uso desses operadores com um exemplo que verifica o tipo de um objeto e o converte para um tipo específico:"
   ],
   "metadata": {
    "collapsed": false
   }
  },
  {
   "cell_type": "code",
   "outputs": [],
   "source": [
    "fun main() {\n",
    "    val lista: List<Any> = listOf(\"String\", 1, 3.14, true)\n",
    "\n",
    "    for (item in lista) {\n",
    "        when (item) {\n",
    "            is String -> println(\"$item é uma String com tamanho ${item.length}\")\n",
    "            is Int -> println(\"$item é um Int\")\n",
    "            is Double -> println(\"$item é um Double\")\n",
    "            else -> println(\"$item é de um tipo não identificado\")\n",
    "        }\n",
    "\n",
    "        val itemAsString: String? = item as? String\n",
    "        itemAsString?.let {\n",
    "            println(\"'$it' convertido para String com sucesso!\")\n",
    "        }\n",
    "    }\n",
    "}"
   ],
   "metadata": {
    "collapsed": false
   }
  },
  {
   "cell_type": "markdown",
   "source": [
    "Neste exemplo, iteramos sobre uma lista de objetos de diferentes tipos (String, Int, Double, e Boolean). Utilizamos o operador `is` para verificar o tipo de cada item e agir de acordo. Também demonstramos como usar o `as` para tentar converter um item para String de forma segura, evitando uma possível ClassCastException."
   ],
   "metadata": {
    "collapsed": false
   }
  }
 ],
 "metadata": {
  "kernelspec": {
   "display_name": "Kotlin",
   "language": "kotlin",
   "name": "kotlin"
  },
  "language_info": {
   "name": "kotlin",
   "version": "1.9.0",
   "mimetype": "text/x-kotlin",
   "file_extension": ".kt",
   "pygments_lexer": "kotlin",
   "codemirror_mode": "text/x-kotlin",
   "nbconvert_exporter": ""
  }
 },
 "nbformat": 4,
 "nbformat_minor": 0
}
