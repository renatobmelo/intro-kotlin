{
 "cells": [
  {
   "cell_type": "markdown",
   "metadata": {
    "collapsed": false
   },
   "source": [
    "![Logo do Kotlin](https://upload.wikimedia.org/wikipedia/commons/thumb/d/d4/Kotlin_logo.svg/2560px-Kotlin_logo.svg.png)\n",
    "\n",
    "# Funções\n",
    "\n",
    "## Introdução\n",
    "O que são funções? São trechos de código projetados para serem reutilizados em várias partes de um programa ou sistema, frequentemente referidos como “rotinas” na programação. Funções podem variar em complexidade, desde tarefas simples, como soma(a, b), até aquelas mais sofisticadas, cada uma cumprindo uma tarefa específica.\n",
    "\n",
    "Este documento foi desenvolvido pelos seguintes alunos de TSI do IFPB, sob subervisão do professor Gustavo Wagner (2024.1):\n",
    "1. Allan Amâncio\n",
    "2. Haniel Costa\n",
    "3. Lavínia Rodrigues\n",
    "4. Márcio José\n",
    "5. Peter Simon\n",
    "6. Yuri Adreano\n",
    "\n",
    "\n",
    "## 1. Declaração de Funções\n",
    "Em Kotlin, as funções são declaradas usando a palavra-chave **fun**:"
   ]
  },
  {
   "cell_type": "code",
   "outputs": [
    {
     "name": "stdout",
     "output_type": "stream",
     "text": [
      "Bem vindo(a), Lavinia!\r\n"
     ]
    }
   ],
   "source": [
    "fun saudacao(nome: String){\n",
    "    println(\"Bem vindo(a), ${nome}!\")\n",
    "}\n",
    "\n",
    "//Chamando a função\n",
    "saudacao(\"Lavinia\")"
   ],
   "metadata": {
    "collapsed": false,
    "ExecuteTime": {
     "end_time": "2024-03-06T01:19:58.853078700Z",
     "start_time": "2024-03-06T01:19:58.736963Z"
    }
   },
   "execution_count": 4
  },
  {
   "cell_type": "markdown",
   "metadata": {
    "collapsed": false
   },
   "source": [
    "O nome da função é **saudacao**, ela tem um parâmetro **nome** do tipo ***String***, e não possui retorno. Ela apenas mostra na tela uma mensagem de boas-vindas.\n",
    "\n",
    "Você também pode atrelar o resultado de uma função a uma variável, basta escrever o nome da função, colocar os argumentos necessários entre parênteses:"
   ]
  },
  {
   "cell_type": "code",
   "execution_count": 5,
   "metadata": {
    "collapsed": false,
    "ExecuteTime": {
     "end_time": "2024-03-06T01:19:59.091180800Z",
     "start_time": "2024-03-06T01:19:58.983145Z"
    }
   },
   "outputs": [
    {
     "data": {
      "text/plain": "Peter é um nome bonito!"
     },
     "execution_count": 5,
     "metadata": {},
     "output_type": "execute_result"
    }
   ],
   "source": [
    "fun dizerNomeEhBonito(nome: String):String {\n",
    "    return \"${nome} é um nome bonito!\"\n",
    "}\n",
    "\n",
    "dizerNomeEhBonito(\"Peter\")"
   ]
  },
  {
   "cell_type": "markdown",
   "metadata": {
    "collapsed": false
   },
   "source": [
    "No próximo capítulo, iniciaremos nossa exploração sobre o uso de **Classes** em Kotlin. No exemplo a seguir, demonstraremos como é possível invocar funções pertencentes a uma classe, utilizando a notação `.meuMetodo()` depois da própria classe:"
   ]
  },
  {
   "cell_type": "code",
   "execution_count": 6,
   "metadata": {
    "collapsed": false,
    "ExecuteTime": {
     "end_time": "2024-03-06T01:19:59.202597Z",
     "start_time": "2024-03-06T01:19:59.095658700Z"
    }
   },
   "outputs": [
    {
     "name": "stdout",
     "output_type": "stream",
     "text": [
      "Método sendo chamado!\r\n"
     ]
    }
   ],
   "source": [
    "class Classe() {\n",
    "    fun meuMetodo() {\n",
    "        println(\"Método sendo chamado!\")\n",
    "    }\n",
    "}\n",
    "\n",
    "// Uso da classe e chamada do método\n",
    "Classe().meuMetodo() // é criada uma instância de Classe e então é chamado o método nomeMetodo()"
   ]
  },
  {
   "cell_type": "markdown",
   "metadata": {
    "collapsed": false
   },
   "source": [
    "## 2. Parâmetros"
   ]
  },
  {
   "cell_type": "markdown",
   "metadata": {
    "collapsed": false
   },
   "source": [
    "Parâmetros, são os valores que gostariamos de passar para dentro de uma função. Eles são especificados entre parênteses após o nome da função.\n",
    "\n",
    "Os parâmetros da função são definidos usando a notação *Pascal* - **nome**: **Tipo**, a fim de garantir segurança de tipos e a clareza no código.\n",
    "\n",
    "Os parâmetros são separados por vírgulas e cada parâmetro deve ser digitado explicitamente:"
   ]
  },
  {
   "cell_type": "code",
   "execution_count": 7,
   "metadata": {
    "collapsed": false,
    "ExecuteTime": {
     "end_time": "2024-03-06T01:19:59.345284600Z",
     "start_time": "2024-03-06T01:19:59.209080800Z"
    }
   },
   "outputs": [
    {
     "name": "stdout",
     "output_type": "stream",
     "text": [
      "2\r\n"
     ]
    }
   ],
   "source": [
    "fun somar(numero1: Int, numero2: Int): Int { \n",
    "    return numero1 + numero2\n",
    "}\n",
    "\n",
    "println(somar(1,1))"
   ]
  },
  {
   "cell_type": "markdown",
   "metadata": {
    "collapsed": false
   },
   "source": [
    "### 2.1 Tipos de parâmetros\n",
    "Os tipos do parâmetros da função podem ser de tipos primitivos (por exemplo, `Int`, `Double`, `Boolean`), assim como de tipos não primitivos (`Object`). \n",
    "\n",
    "No código abaixo veremos dois exemplos de tipos de parâmetros:"
   ]
  },
  {
   "cell_type": "code",
   "execution_count": 8,
   "metadata": {
    "collapsed": false,
    "ExecuteTime": {
     "end_time": "2024-03-06T01:19:59.556942800Z",
     "start_time": "2024-03-06T01:19:59.351396800Z"
    }
   },
   "outputs": [
    {
     "name": "stdout",
     "output_type": "stream",
     "text": [
      "o nome do aluno eh: Gustavo!\r\n"
     ]
    }
   ],
   "source": [
    "class Aluno(val nome: String){}\n",
    "\n",
    "/*Neste exemplo, a função recebe um tipo string como parametro */\n",
    "fun criarAluno(nomeAluno: String) : Aluno{\n",
    "    return Aluno(nomeAluno);\n",
    "}\n",
    "\n",
    "/*Neste exemplo, a função recebe um tipo objeto como parametro */\n",
    "fun mostrarNomeAluno(aluno:Aluno){\n",
    "    println(\"o nome do aluno eh: ${aluno.nome}!\")\n",
    "}\n",
    "\n",
    "val a1:Aluno = criarAluno(\"Gustavo\");\n",
    "mostrarNomeAluno(a1);"
   ]
  },
  {
   "cell_type": "markdown",
   "metadata": {
    "collapsed": false
   },
   "source": [
    "### 2.2 Atribuição de valores"
   ]
  },
  {
   "cell_type": "markdown",
   "metadata": {
    "collapsed": false
   },
   "source": [
    "Em Kotlin, existe duas maneiras de se atribuir valores aos parâmetros de uma função: Atribuição Posicional e Atribuição Nomeada.\n",
    "\n",
    "**Atribuição Posicional (Positional Assignment):** é a forma comumente utilizada, onde  os valores são atribuídos aos parâmetros com base na ordem em que são declarados na assinatura da função."
   ]
  },
  {
   "cell_type": "code",
   "execution_count": 9,
   "metadata": {
    "collapsed": false,
    "ExecuteTime": {
     "end_time": "2024-03-06T01:19:59.657644200Z",
     "start_time": "2024-03-06T01:19:59.561304500Z"
    }
   },
   "outputs": [
    {
     "name": "stdout",
     "output_type": "stream",
     "text": [
      "Nome: Alice, Idade: 25\r\n"
     ]
    }
   ],
   "source": [
    "fun imprimirDados(nome: String, idade: Int) {\n",
    "    println(\"Nome: $nome, Idade: $idade\")\n",
    "}\n",
    "\n",
    "// Atribuição posicional\n",
    "imprimirDados(\"Alice\", 25)"
   ]
  },
  {
   "cell_type": "markdown",
   "metadata": {
    "collapsed": false
   },
   "source": [
    "**Atribuição Nomeada (Named Assignment):** Existe, mas não é muito utilizada. Permite atribuir valores aos parâmetros especificando o nome do parâmetro seguido por = e o valor correspondente."
   ]
  },
  {
   "cell_type": "code",
   "execution_count": 10,
   "metadata": {
    "collapsed": false,
    "ExecuteTime": {
     "end_time": "2024-03-06T01:19:59.759276900Z",
     "start_time": "2024-03-06T01:19:59.661649200Z"
    }
   },
   "outputs": [
    {
     "name": "stdout",
     "output_type": "stream",
     "text": [
      "Nome: Kleber, Idade: 45 \r\n"
     ]
    }
   ],
   "source": [
    "fun imprimirDadosParametrosInvertidos(idade: Int, nome: String) {\n",
    "    println(\"Nome: $nome, Idade: $idade \")\n",
    "}\n",
    "\n",
    "// Atribuição Nomeada\n",
    "imprimirDadosParametrosInvertidos(nome=\"Kleber\",  idade=45)"
   ]
  },
  {
   "cell_type": "markdown",
   "metadata": {
    "collapsed": false
   },
   "source": [
    "### 2.3 Parâmetros Padrão (Default Parameters):\n",
    "Caso a sua função possua a necessidade de garantir que um parâmetro possua sempre algum valor, o Kotlin permite definir valores padrão para os parâmetros. Isso significa que você pode fornecer valores padrão para alguns ou todos os parâmetros de uma função, permitindo que chamadores da função omitam esses parâmetros se desejarem.\n",
    "\n",
    "**Veja o exemplo abaixo**:"
   ]
  },
  {
   "cell_type": "code",
   "execution_count": 11,
   "metadata": {
    "collapsed": false,
    "ExecuteTime": {
     "end_time": "2024-03-06T01:19:59.986680Z",
     "start_time": "2024-03-06T01:19:59.763736900Z"
    }
   },
   "outputs": [
    {
     "name": "stdout",
     "output_type": "stream",
     "text": [
      "Allan saudou com um: Bom dia \r\n"
     ]
    }
   ],
   "source": [
    "fun saudar(nome:String, saudacao:String =\"Bom dia\"){\n",
    "    println(\"$nome saudou com um: $saudacao \")\n",
    "}\n",
    "saudar(\"Allan\")"
   ]
  },
  {
   "cell_type": "markdown",
   "metadata": {
    "collapsed": false
   },
   "source": [
    "### 2.4 Infinitos Parâmetros (vararg e spread):"
   ]
  },
  {
   "cell_type": "markdown",
   "metadata": {
    "collapsed": false
   },
   "source": [
    "Em Kotlin,  existe a possibilidade de permitir que um parâmetro receba infinitos argumentos do mesmo tipo, através do recurso ***vararg***, o qual permite que uma função aceite um número variável de argumentos do mesmo tipo.\n",
    "\n",
    "Dentro do escopo da função, o **parâmetro** declarado como ***vararg*** é tratado como um ***array***, e você pode iterar sobre os elementos ou usá-los de outras maneiras.  \n",
    "\n",
    "Existem duas formas de passar os valores para um  ***vararg***: você pode passar os valores desejados diretamente na chamada da função, ou você pode utilizar o operador \"*\" (*Spread*) para descompactar uma lista de valores. Veja o exemplo abaixo."
   ]
  },
  {
   "cell_type": "code",
   "execution_count": 12,
   "metadata": {
    "collapsed": false,
    "ExecuteTime": {
     "end_time": "2024-03-06T01:20:00.558704800Z",
     "start_time": "2024-03-06T01:19:59.990280200Z"
    }
   },
   "outputs": [
    {
     "name": "stdout",
     "output_type": "stream",
     "text": [
      "600\r\n",
      "0\r\n"
     ]
    }
   ],
   "source": [
    "// Definindo uma função chamada encontrarMaiorNumero que aceita um número variável de argumentos (varargs) inteiros\n",
    "fun encontrarMaiorNumero(vararg numeros: Int): Int? {\n",
    "    if (numeros.isEmpty()) {\n",
    "        return null;\n",
    "    }\n",
    "\n",
    "    var maiorNumero = numeros[0];\n",
    "\n",
    "    for (numero in numeros) {\n",
    "        if (numero > maiorNumero) {\n",
    "            maiorNumero = numero;\n",
    "        }\n",
    "    }\n",
    "\n",
    "    return maiorNumero;\n",
    "}\n",
    "\n",
    "// Exemplo de chamada da função com valores diretamente fornecidos\n",
    "println(encontrarMaiorNumero(1, 2, 3, 4, 5, 600, 7, 8, 9, 10))\n",
    "\n",
    "// Exemplo de chamada da função com descompactação de lista usando o operador spread '*'\n",
    "val valores = listOf(-4, -5, 0, -1, -9, -8)\n",
    "println(encontrarMaiorNumero(*valores.toIntArray()))"
   ]
  },
  {
   "cell_type": "markdown",
   "metadata": {
    "collapsed": false
   },
   "source": [
    "O uso de parâmetros ***varargs*** é uma maneira eficiente e flexível de lidar com funções que podem aceitar um número variável de argumentos do mesmo tipo. Isso é comumente utilizado para simplificar chamadas de funções com diferentes quantidades de parâmetros."
   ]
  },
  {
   "cell_type": "markdown",
   "metadata": {
    "collapsed": false
   },
   "source": [
    "## 3. Retornos\n",
    "Uma função sempre terá um retorno, mas nem sempre ele será explícito. Portanto, quanto ao tipo de retorno, as funções são divididas em dois tipos: **funções de retorno implícito** e **funções de retorno explícito**.\n",
    "\n",
    "### 3.1 Funções de retorno implícito\n",
    "Explicando de forma didática, o retorno implícito é o *Void* que já conhecemos de outras linguagens. Porém, em Kotlin, não será *Void*, mas sim ***Unit***. Lembrando que funções de retorno implícito podem ter seu tipo também implícito, isto é, podemos colocar “Unit” ou não. Vejam as possibilidades:"
   ]
  },
  {
   "cell_type": "code",
   "execution_count": 13,
   "metadata": {
    "collapsed": false,
    "ExecuteTime": {
     "end_time": "2024-03-06T01:20:00.652004800Z",
     "start_time": "2024-03-06T01:20:00.562701100Z"
    }
   },
   "outputs": [
    {
     "name": "stdout",
     "output_type": "stream",
     "text": [
      "Olá, Mundo!\r\n"
     ]
    }
   ],
   "source": [
    "// Função de retorno implícito, colocando o \"Unit\" e sem parâmetros\n",
    "fun printOlaMundo(): Unit {\n",
    "    println(\"Olá, Mundo!\")\n",
    "}\n",
    "\n",
    "printOlaMundo()"
   ]
  },
  {
   "cell_type": "code",
   "execution_count": 14,
   "metadata": {
    "collapsed": false,
    "ExecuteTime": {
     "end_time": "2024-03-06T01:20:00.781448800Z",
     "start_time": "2024-03-06T01:20:00.657010100Z"
    }
   },
   "outputs": [
    {
     "name": "stdout",
     "output_type": "stream",
     "text": [
      "Olá, Marte!\r\n"
     ]
    }
   ],
   "source": [
    "// Função de retorno implícito, sem colocar o \"Unit\" e com parâmetros\n",
    "fun printOlaPlaneta(planeta: String) {\n",
    "    println(\"Olá, $planeta!\")\n",
    "}\n",
    "\n",
    "printOlaPlaneta(\"Marte\")"
   ]
  },
  {
   "cell_type": "code",
   "execution_count": 15,
   "metadata": {
    "collapsed": false,
    "ExecuteTime": {
     "end_time": "2024-03-06T01:20:00.893674600Z",
     "start_time": "2024-03-06T01:20:00.785564700Z"
    }
   },
   "outputs": [
    {
     "name": "stdout",
     "output_type": "stream",
     "text": [
      "Funcionário do ID 3 agora possui o seguinte cargo: Desenvolvedor Sênior.\r\n"
     ]
    }
   ],
   "source": [
    "// Função para atualizar o cargo profissional de algum funcionário\n",
    "fun atualizarCargo(id: Int, novoCargo: String): Unit {\n",
    "    println(\"Funcionário do ID $id agora possui o seguinte cargo: $novoCargo.\")\n",
    "}\n",
    "\n",
    "atualizarCargo(3, \"Desenvolvedor Sênior\")"
   ]
  },
  {
   "cell_type": "markdown",
   "metadata": {
    "collapsed": false
   },
   "source": [
    "### 3.2 Funções de retorno explícito\n",
    "Agora que compreendemos as **funções de retorno implícito**, vamos explorar as **funções de retorno explícito**. Essas são funções em que os resultados precisam ser explicitamente declarados (🤯). Sim, é isso mesmo: o tipo de retorno deve ser especificado, é uma exigência!\n",
    "\n",
    "Vejamos alguns exemplos:"
   ]
  },
  {
   "cell_type": "code",
   "execution_count": 16,
   "metadata": {
    "collapsed": false,
    "ExecuteTime": {
     "end_time": "2024-03-06T01:20:01.102242100Z",
     "start_time": "2024-03-06T01:20:00.898687500Z"
    }
   },
   "outputs": [],
   "source": [
    "// Soma dois números e retorna um valor inteiro\n",
    "fun somar(a: Int, b: Int): Int {\n",
    "    return a + b\n",
    "}\n",
    "\n",
    "// Lê dois números, calcula a média deles e retorna um valor decimal\n",
    "fun calcularMedia (n1: Double, n2: Double): Double {\n",
    "\treturn (n1+n2) / 2\n",
    "}\n",
    "\n",
    "// Lê um número e retorna um booleano para caso ele seja par\n",
    "fun numeroPar(numero: Int): Boolean {\n",
    "    return numero % 2 == 0\n",
    "}\n",
    "\n",
    "// Cria uma lista imutável de strings\n",
    "fun criarLista(): List<String> {\n",
    "    return listOf(\"Paraíba\", \"Pernambuco\", \"Ceará\")\n",
    "}\n",
    "\n",
    "// Cria uma lista mutável de inteiros\n",
    "fun criarListaMutavel(): MutableList<Int> {\n",
    "    return mutableListOf(1, 2, 3)\n",
    "}"
   ]
  },
  {
   "cell_type": "markdown",
   "metadata": {
    "collapsed": false
   },
   "source": [
    "### 3.3 Sugestão\n",
    "Aqui vai uma dica valiosa: se a sua função consiste em apenas uma linha de código que retorna um valor, você pode utilizar a \"sintaxe de expressão de função\" para tornar a sua escrita ainda mais concisa. Por exemplo:"
   ]
  },
  {
   "cell_type": "code",
   "execution_count": 17,
   "metadata": {
    "collapsed": false,
    "ExecuteTime": {
     "end_time": "2024-03-06T01:20:01.199698600Z",
     "start_time": "2024-03-06T01:20:01.105245200Z"
    }
   },
   "outputs": [
    {
     "data": {
      "text/plain": "30"
     },
     "execution_count": 17,
     "metadata": {},
     "output_type": "execute_result"
    }
   ],
   "source": [
    "// Aquela mesma função somar apresentada anteriormente\n",
    "fun somar(a: Int, b: Int) = a + b\n",
    "\n",
    "somar(20, 10)"
   ]
  },
  {
   "cell_type": "markdown",
   "metadata": {
    "collapsed": false
   },
   "source": [
    "Nesse caso, o compilador é capaz de inferir o tipo de retorno da função como ***Int***, então você não precisa especificá-lo explicitamente."
   ]
  },
  {
   "cell_type": "markdown",
   "metadata": {
    "collapsed": false
   },
   "source": [
    "## 4. Funções de ordem superior\n",
    "As funções de ordem superior são aquelas capazes de receber outras funções como parâmetros ou retorná-las. Em Kotlin, você pode definir funções de ordem superior utilizando tipos de função ou lambdas.\n",
    "\n",
    "### 4.1 Definindo uma função de ordem superior que recebe outra função como parâmetro"
   ]
  },
  {
   "cell_type": "code",
   "execution_count": 18,
   "metadata": {
    "collapsed": false,
    "ExecuteTime": {
     "end_time": "2024-03-06T01:20:01.334415600Z",
     "start_time": "2024-03-06T01:20:01.205655300Z"
    }
   },
   "outputs": [],
   "source": [
    "fun operacao(a: Double, b: Double, operador: (Double, Double) \n",
    "-> Double): Double {\n",
    "    return operador(a, b)\n",
    "}"
   ]
  },
  {
   "cell_type": "markdown",
   "metadata": {
    "collapsed": false
   },
   "source": [
    "Em resumo, essa função operacao() permite que você realize uma operação (definida pela função operador) em dois números decimais (a e b). O resultado da operação é então retornado como um valor decimal. A flexibilidade dessa função reside no fato de que você pode passar diferentes operadores para realizar diferentes tipos de operações."
   ]
  },
  {
   "cell_type": "markdown",
   "metadata": {
    "collapsed": false
   },
   "source": [
    "### 4.2 Definindo funções que serão passadas como parâmetro"
   ]
  },
  {
   "cell_type": "code",
   "execution_count": 19,
   "metadata": {
    "collapsed": false,
    "ExecuteTime": {
     "end_time": "2024-03-06T01:20:01.433234500Z",
     "start_time": "2024-03-06T01:20:01.337428200Z"
    }
   },
   "outputs": [],
   "source": [
    "//Função somar recebe dois números e soma\n",
    "fun soma(x: Double, y: Double): Double {\n",
    "    return x + y\n",
    "}\n",
    "\n",
    "//Função subtração recebe dois números e subtraí \n",
    "fun subtracao(x: Double, y: Double): Double {\n",
    "    return x - y\n",
    "}"
   ]
  },
  {
   "cell_type": "markdown",
   "metadata": {
    "collapsed": false
   },
   "source": [
    "### 4.3 Hora de executar"
   ]
  },
  {
   "cell_type": "code",
   "execution_count": 20,
   "metadata": {
    "collapsed": false,
    "ExecuteTime": {
     "end_time": "2024-03-06T01:20:01.775312400Z",
     "start_time": "2024-03-06T01:20:01.437239700Z"
    }
   },
   "outputs": [
    {
     "name": "stdout",
     "output_type": "stream",
     "text": [
      "Resultado da soma: 15.0\r\n",
      "Resultado da subtração: 5.0\r\n",
      "Resultado da multiplicação: 50.0\r\n"
     ]
    }
   ],
   "source": [
    "fun operacao(a: Double, b: Double, operador: (Double, Double) \n",
    "-> Double): Double {\n",
    "    return operador(a, b)\n",
    "}\n",
    "\n",
    "fun soma(x: Double, y: Double): Double {\n",
    "    return x + y\n",
    "}\n",
    "\n",
    "fun subtracao(x: Double, y: Double): Double {\n",
    "    return x - y\n",
    "}\n",
    "\n",
    "// Passando a função soma como parâmetro\n",
    "val resultadoSoma = operacao(10.0, 5.0, ::soma) \n",
    "println(\"Resultado da soma: $resultadoSoma\")\n",
    "\n",
    "// Passando a função subtração como parâmetro\n",
    "val resultadoSubtracao = operacao(10.0, 5.0, ::subtracao) \n",
    "println(\"Resultado da subtração: $resultadoSubtracao\")\n",
    "\n",
    "// Usando uma função lambda diretamente como parâmetro\n",
    "val resultadoMultiplicacao = operacao(10.0, 5.0) { x, y -> x * y }\n",
    "println(\"Resultado da multiplicação: $resultadoMultiplicacao\")"
   ]
  },
  {
   "cell_type": "markdown",
   "metadata": {
    "collapsed": false
   },
   "source": [
    "## 5. Lambdas\n",
    "Lambdas são expressões de função anônimas que podem ser atribuídas a variáveis ou passadas como argumentos para funções. Em Kotlin, elas são escritas usando a sintaxe “{ argumentos -> corpo }”\n",
    "\n",
    "### 5.1 Sintaxe:"
   ]
  },
  {
   "cell_type": "code",
   "execution_count": 21,
   "metadata": {
    "collapsed": false,
    "ExecuteTime": {
     "end_time": "2024-03-06T01:20:01.862246600Z",
     "start_time": "2024-03-06T01:20:01.779390900Z"
    }
   },
   "outputs": [],
   "source": [
    "val sum: (Int, Int) -> Int = { x: Int, y: Int -> x + y }"
   ]
  },
  {
   "cell_type": "markdown",
   "metadata": {
    "collapsed": false
   },
   "source": [
    "Outras formas:"
   ]
  },
  {
   "cell_type": "code",
   "execution_count": 22,
   "metadata": {
    "collapsed": false,
    "ExecuteTime": {
     "end_time": "2024-03-06T01:20:01.967544200Z",
     "start_time": "2024-03-06T01:20:01.865003500Z"
    }
   },
   "outputs": [],
   "source": [
    "val sum: (Int, Int) -> Int = { x, y -> x + y }\n",
    "val sum1 = { x: Int, y: Int -> x + y }"
   ]
  },
  {
   "cell_type": "markdown",
   "metadata": {
    "collapsed": false
   },
   "source": [
    "- Uma expressão lambda é sempre cercada por chaves.\n",
    "- Os parâmetros são descritos na parte que antecede a seta ( “->” ).\n",
    "- O corpo da função corresponde ao conteúdo escrito após a seta."
   ]
  },
  {
   "cell_type": "markdown",
   "metadata": {
    "collapsed": false
   },
   "source": [
    "### 5.2 Exemplos de uso:"
   ]
  },
  {
   "cell_type": "code",
   "execution_count": 23,
   "metadata": {
    "collapsed": false,
    "ExecuteTime": {
     "end_time": "2024-03-06T01:20:02.112343700Z",
     "start_time": "2024-03-06T01:20:01.970997Z"
    }
   },
   "outputs": [
    {
     "name": "stdout",
     "output_type": "stream",
     "text": [
      "25\r\n"
     ]
    }
   ],
   "source": [
    "val quadrado: (Int) -> Int = { x: Int -> (x * x)}\n",
    "println(quadrado(5))"
   ]
  },
  {
   "cell_type": "markdown",
   "metadata": {
    "collapsed": false
   },
   "source": [
    "É possível escrever mais que uma expressão/linha de código no corpo de uma Lambda, mas ao contrário das funções normais, as Lambdas não aceitam um retorno explícito (”return”)."
   ]
  },
  {
   "cell_type": "code",
   "execution_count": 24,
   "metadata": {
    "collapsed": false,
    "ExecuteTime": {
     "end_time": "2024-03-06T01:20:02.286399900Z",
     "start_time": "2024-03-06T01:20:02.115342600Z"
    }
   },
   "outputs": [
    {
     "name": "stdout",
     "output_type": "stream",
     "text": [
      "Proteina necessaria: Mais que um boi!\n",
      "Tipo do dado retornado: String\r\n"
     ]
    }
   ],
   "source": [
    "val proteinaNecessariaPorPeso = { peso: Int ->\n",
    "    val resultado = peso * 0.8\n",
    "\n",
    "    if (resultado < 96) {\n",
    "        resultado // Retorno implícito, do tipo Double.\n",
    "    } else {\n",
    "        \"Mais que um boi!\" // Retorno implícito, do tipo String.\n",
    "    }\n",
    "}\n",
    "\n",
    "val resultado = proteinaNecessariaPorPeso(130)\n",
    "println(\"Proteina necessaria: $resultado\\nTipo do dado retornado: ${resultado::class.simpleName}\")"
   ]
  },
  {
   "cell_type": "markdown",
   "metadata": {
    "collapsed": false
   },
   "source": [
    "Lambda anônima declarada como parâmetro de outra função (na lista de parâmetros):"
   ]
  },
  {
   "cell_type": "code",
   "execution_count": 25,
   "metadata": {
    "collapsed": false,
    "ExecuteTime": {
     "end_time": "2024-03-06T01:20:02.394433Z",
     "start_time": "2024-03-06T01:20:02.290414400Z"
    }
   },
   "outputs": [
    {
     "name": "stdout",
     "output_type": "stream",
     "text": [
      "25\r\n"
     ]
    }
   ],
   "source": [
    "fun quadradoLambda(lambda: (Int) -> Int, numero: Int ) = println(lambda(numero))\n",
    "quadradoLambda({ x: Int -> (x * x)}, 5)"
   ]
  }
 ],
 "metadata": {
  "kernelspec": {
   "display_name": "Kotlin",
   "language": "kotlin",
   "name": "kotlin"
  },
  "language_info": {
   "name": "kotlin",
   "version": "1.9.0",
   "mimetype": "text/x-kotlin",
   "file_extension": ".kt",
   "pygments_lexer": "kotlin",
   "codemirror_mode": "text/x-kotlin",
   "nbconvert_exporter": ""
  },
  "ktnbPluginMetadata": {
   "projectDependencies": [
    "introducao-kotlin"
   ]
  }
 },
 "nbformat": 4,
 "nbformat_minor": 0
}
